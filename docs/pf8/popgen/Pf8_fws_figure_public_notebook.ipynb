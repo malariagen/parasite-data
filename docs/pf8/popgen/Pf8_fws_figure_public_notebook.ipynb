{
 "cells": [
  {
   "cell_type": "markdown",
   "metadata": {
    "id": "H5W4kSYDUTXJ"
   },
   "source": [
    "# Explore Fws across populations\n",
    "\n",
    "This notebook takes sample-level F<sub>*WS*</sub> scores from the MalariaGEN Pf8 data release and generates a box plot of F<sub>*WS*</sub>  scores, summarised at the subpopulation-level.\n",
    "\n",
    "A quick recap: F<sub>*WS*</sub> is a measure of sample clonality. High values (i.e. >0.95) mean a sample contains a high proportion of, or exclusively, clones of the same parasite strain. Low values indicate a mix of different parasite strains within a sample. For a more detailed explanation of the F<sub>*WS*</sub> metric, see [this paper](https://www.nature.com/articles/nature11174) by Manske *et al.* (2012).\n",
    "\n",
    "**This notebook should take around one minute to run.**"
   ]
  },
  {
   "cell_type": "markdown",
   "metadata": {
    "id": "Sa-q1QHPUTXK"
   },
   "source": [
    "## Setup\n",
    "\n",
    "Install and import the malariagen Python package:"
   ]
  },
  {
   "cell_type": "code",
   "execution_count": 1,
   "metadata": {
    "colab": {
     "base_uri": "https://localhost:8080/"
    },
    "id": "eWy-86DCUTXL",
    "outputId": "07b8951b-26bf-460f-c622-1ce56ba8a125",
    "tags": []
   },
   "outputs": [
    {
     "name": "stdout",
     "output_type": "stream",
     "text": [
      "  Installing build dependencies ... \u001b[?25l\u001b[?25hdone\n",
      "  Getting requirements to build wheel ... \u001b[?25l\u001b[?25hdone\n",
      "  Preparing metadata (pyproject.toml) ... \u001b[?25l\u001b[?25hdone\n"
     ]
    }
   ],
   "source": [
    "!pip install malariagen_data -q --no-warn-conflicts\n",
    "import malariagen_data"
   ]
  },
  {
   "cell_type": "markdown",
   "metadata": {
    "id": "McAft5WuUTXL"
   },
   "source": [
    "Import required python libraries that are installed at colab by default."
   ]
  },
  {
   "cell_type": "code",
   "execution_count": 2,
   "metadata": {
    "id": "UbRpW_lgUTXL"
   },
   "outputs": [],
   "source": [
    "import numpy as np\n",
    "import pandas as pd\n",
    "import collections\n",
    "import matplotlib.pyplot as plt\n",
    "from google.colab import drive"
   ]
  },
  {
   "cell_type": "markdown",
   "metadata": {
    "id": "GHGcOvSgUTXM"
   },
   "source": [
    "## Access Pf8 Data\n",
    "\n",
    "We use the malariagen data package to load the release data."
   ]
  },
  {
   "cell_type": "code",
   "execution_count": null,
   "metadata": {
    "id": "eKW84-QFUTXM"
   },
   "outputs": [],
   "source": [
    "release_data = malariagen_data.Pf8()\n",
    "df_samples = release_data.sample_metadata()"
   ]
  },
  {
   "cell_type": "markdown",
   "metadata": {
    "id": "zhl5RGOoaEnv"
   },
   "source": [
    "Then we load the file containing sample-level F<sub>*WS*</sub> data"
   ]
  },
  {
   "cell_type": "code",
   "execution_count": 2,
   "metadata": {
    "colab": {
     "base_uri": "https://localhost:8080/",
     "height": 224
    },
    "id": "CRRrqiIUUTXM",
    "outputId": "669d533c-638a-4295-868a-7972eac5cb78"
   },
   "outputs": [
    {
     "name": "stdout",
     "output_type": "stream",
     "text": [
      "(24409, 2)\n"
     ]
    },
    {
     "data": {
      "text/html": [
       "<div>\n",
       "<style scoped>\n",
       "    .dataframe tbody tr th:only-of-type {\n",
       "        vertical-align: middle;\n",
       "    }\n",
       "\n",
       "    .dataframe tbody tr th {\n",
       "        vertical-align: top;\n",
       "    }\n",
       "\n",
       "    .dataframe thead th {\n",
       "        text-align: right;\n",
       "    }\n",
       "</style>\n",
       "<table border=\"1\" class=\"dataframe\">\n",
       "  <thead>\n",
       "    <tr style=\"text-align: right;\">\n",
       "      <th></th>\n",
       "      <th>Sample</th>\n",
       "      <th>Fws</th>\n",
       "    </tr>\n",
       "  </thead>\n",
       "  <tbody>\n",
       "    <tr>\n",
       "      <th>0</th>\n",
       "      <td>FP0008-C</td>\n",
       "      <td>0.820692</td>\n",
       "    </tr>\n",
       "    <tr>\n",
       "      <th>1</th>\n",
       "      <td>FP0009-C</td>\n",
       "      <td>0.998084</td>\n",
       "    </tr>\n",
       "    <tr>\n",
       "      <th>2</th>\n",
       "      <td>FP0010-CW</td>\n",
       "      <td>0.822654</td>\n",
       "    </tr>\n",
       "    <tr>\n",
       "      <th>3</th>\n",
       "      <td>FP0011-CW</td>\n",
       "      <td>0.755678</td>\n",
       "    </tr>\n",
       "    <tr>\n",
       "      <th>4</th>\n",
       "      <td>FP0012-CW</td>\n",
       "      <td>0.995906</td>\n",
       "    </tr>\n",
       "  </tbody>\n",
       "</table>\n",
       "</div>"
      ],
      "text/plain": [
       "      Sample       Fws\n",
       "0   FP0008-C  0.820692\n",
       "1   FP0009-C  0.998084\n",
       "2  FP0010-CW  0.822654\n",
       "3  FP0011-CW  0.755678\n",
       "4  FP0012-CW  0.995906"
      ]
     },
     "execution_count": 2,
     "metadata": {},
     "output_type": "execute_result"
    }
   ],
   "source": [
    "# Load FWS scores\n",
    "# Read data directly from url\n",
    "fws_df = pd.read_csv('https://pf8-release.cog.sanger.ac.uk/Pf8_fws.tsv', sep='\\t')\n",
    "\n",
    "# Print the shape and first rows\n",
    "print(fws_df.shape)\n",
    "fws_df.head()"
   ]
  },
  {
   "cell_type": "markdown",
   "metadata": {
    "id": "YbsMbzXLaR28"
   },
   "source": [
    "## Subset and combine the data frames\n",
    "\n",
    "For the most reliable results, we only want to look at samples which have passed quality control (QC)"
   ]
  },
  {
   "cell_type": "code",
   "execution_count": 5,
   "metadata": {
    "colab": {
     "base_uri": "https://localhost:8080/"
    },
    "id": "YNxu-P36UTXM",
    "outputId": "aff96cd4-7561-4cb1-9335-2cae34d939f9"
   },
   "outputs": [
    {
     "name": "stdout",
     "output_type": "stream",
     "text": [
      "(array([False,  True]), array([ 8916, 24409]))\n"
     ]
    },
    {
     "data": {
      "text/plain": [
       "(24409, 17)"
      ]
     },
     "execution_count": 5,
     "metadata": {},
     "output_type": "execute_result"
    }
   ],
   "source": [
    "# Select only QC-passed samples\n",
    "sample_selection = df_samples['QC pass']\n",
    "print(np.unique(sample_selection, return_counts=True))\n",
    "\n",
    "# Return a new data frame containing only QC-passed samples\n",
    "qcplus_samples = df_samples.loc[sample_selection]\n",
    "qcplus_samples.shape"
   ]
  },
  {
   "cell_type": "markdown",
   "metadata": {
    "id": "m1QjFtiia7Td"
   },
   "source": [
    "There are 24,409 QC-passed samples in Pf8"
   ]
  },
  {
   "cell_type": "code",
   "execution_count": 6,
   "metadata": {
    "colab": {
     "base_uri": "https://localhost:8080/",
     "height": 310
    },
    "id": "nQ5Qp0BnUTXM",
    "outputId": "836792ba-887a-426b-8b6e-1b4f2a8e9e6b"
   },
   "outputs": [
    {
     "data": {
      "application/vnd.google.colaboratory.intrinsic+json": {
       "summary": "{\n  \"name\": \"fws_qcplus_samples\",\n  \"rows\": 24409,\n  \"fields\": [\n    {\n      \"column\": \"Sample\",\n      \"properties\": {\n        \"dtype\": \"string\",\n        \"num_unique_values\": 24409,\n        \"samples\": [\n          \"SPT16969\",\n          \"RCN00879\",\n          \"SPT40671\"\n        ],\n        \"semantic_type\": \"\",\n        \"description\": \"\"\n      }\n    },\n    {\n      \"column\": \"Study\",\n      \"properties\": {\n        \"dtype\": \"category\",\n        \"num_unique_values\": 93,\n        \"samples\": [\n          \"1022-PF-MW-OCHOLLA\",\n          \"1114-PF-PDN-DBS-GH-GHANSAH\",\n          \"1135-PF-SN-CONWAY\"\n        ],\n        \"semantic_type\": \"\",\n        \"description\": \"\"\n      }\n    },\n    {\n      \"column\": \"Country\",\n      \"properties\": {\n        \"dtype\": \"category\",\n        \"num_unique_values\": 33,\n        \"samples\": [\n          \"Sudan\",\n          \"Vietnam\",\n          \"Ethiopia\"\n        ],\n        \"semantic_type\": \"\",\n        \"description\": \"\"\n      }\n    },\n    {\n      \"column\": \"Admin level 1\",\n      \"properties\": {\n        \"dtype\": \"category\",\n        \"num_unique_values\": 118,\n        \"samples\": [\n          \"Lagos\",\n          \"Gaza\",\n          \"Nzerekore\"\n        ],\n        \"semantic_type\": \"\",\n        \"description\": \"\"\n      }\n    },\n    {\n      \"column\": \"Country latitude\",\n      \"properties\": {\n        \"dtype\": \"number\",\n        \"std\": 10.038330616227192,\n        \"min\": -19.37564815406632,\n        \"max\": 23.83676210254897,\n        \"num_unique_values\": 33,\n        \"samples\": [\n          16.049385531400517,\n          16.69436455,\n          8.629764362513097\n        ],\n        \"semantic_type\": \"\",\n        \"description\": \"\"\n      }\n    },\n    {\n      \"column\": \"Country longitude\",\n      \"properties\": {\n        \"dtype\": \"number\",\n        \"std\": 48.65721291442347,\n        \"min\": -74.35684186076726,\n        \"max\": 145.25400675267255,\n        \"num_unique_values\": 33,\n        \"samples\": [\n          30.005646335160435,\n          106.55179596,\n          39.62619544813527\n        ],\n        \"semantic_type\": \"\",\n        \"description\": \"\"\n      }\n    },\n    {\n      \"column\": \"Admin level 1 latitude\",\n      \"properties\": {\n        \"dtype\": \"number\",\n        \"std\": 10.32049979679567,\n        \"min\": -25.52759199095002,\n        \"max\": 26.07383704651308,\n        \"num_unique_values\": 119,\n        \"samples\": [\n          6.527058222002174,\n          6.611915560464792,\n          8.43731555009309\n        ],\n        \"semantic_type\": \"\",\n        \"description\": \"\"\n      }\n    },\n    {\n      \"column\": \"Admin level 1 longitude\",\n      \"properties\": {\n        \"dtype\": \"number\",\n        \"std\": 49.73699921471399,\n        \"min\": -77.86731350630257,\n        \"max\": 150.84596252,\n        \"num_unique_values\": 119,\n        \"samples\": [\n          3.5649471762163705,\n          2.2216427215441525,\n          -8.899059960499232\n        ],\n        \"semantic_type\": \"\",\n        \"description\": \"\"\n      }\n    },\n    {\n      \"column\": \"Year\",\n      \"properties\": {\n        \"dtype\": \"number\",\n        \"std\": 5.347253065242546,\n        \"min\": 1966.0,\n        \"max\": 2022.0,\n        \"num_unique_values\": 39,\n        \"samples\": [\n          1967.0,\n          1970.0,\n          2013.0\n        ],\n        \"semantic_type\": \"\",\n        \"description\": \"\"\n      }\n    },\n    {\n      \"column\": \"ENA\",\n      \"properties\": {\n        \"dtype\": \"string\",\n        \"num_unique_values\": 24290,\n        \"samples\": [\n          \"ERR405239\",\n          \"ERR4020889\",\n          \"ERR2890684\"\n        ],\n        \"semantic_type\": \"\",\n        \"description\": \"\"\n      }\n    },\n    {\n      \"column\": \"All samples same case\",\n      \"properties\": {\n        \"dtype\": \"string\",\n        \"num_unique_values\": 24409,\n        \"samples\": [\n          \"SPT16969\",\n          \"RCN00879\",\n          \"SPT40671\"\n        ],\n        \"semantic_type\": \"\",\n        \"description\": \"\"\n      }\n    },\n    {\n      \"column\": \"Population\",\n      \"properties\": {\n        \"dtype\": \"category\",\n        \"num_unique_values\": 10,\n        \"samples\": [\n          \"AF-C\",\n          \"AF-E\",\n          \"OC-NG\"\n        ],\n        \"semantic_type\": \"\",\n        \"description\": \"\"\n      }\n    },\n    {\n      \"column\": \"% callable\",\n      \"properties\": {\n        \"dtype\": \"number\",\n        \"std\": 9.783885494769905,\n        \"min\": 50.0,\n        \"max\": 92.21,\n        \"num_unique_values\": 3659,\n        \"samples\": [\n          83.43,\n          88.78,\n          90.79\n        ],\n        \"semantic_type\": \"\",\n        \"description\": \"\"\n      }\n    },\n    {\n      \"column\": \"QC pass\",\n      \"properties\": {\n        \"dtype\": \"boolean\",\n        \"num_unique_values\": 1,\n        \"samples\": [\n          true\n        ],\n        \"semantic_type\": \"\",\n        \"description\": \"\"\n      }\n    },\n    {\n      \"column\": \"Exclusion reason\",\n      \"properties\": {\n        \"dtype\": \"category\",\n        \"num_unique_values\": 1,\n        \"samples\": [\n          \"Analysis_set\"\n        ],\n        \"semantic_type\": \"\",\n        \"description\": \"\"\n      }\n    },\n    {\n      \"column\": \"Sample type\",\n      \"properties\": {\n        \"dtype\": \"category\",\n        \"num_unique_values\": 3,\n        \"samples\": [\n          \"gDNA\"\n        ],\n        \"semantic_type\": \"\",\n        \"description\": \"\"\n      }\n    },\n    {\n      \"column\": \"Sample was in Pf7\",\n      \"properties\": {\n        \"dtype\": \"boolean\",\n        \"num_unique_values\": 2,\n        \"samples\": [\n          false\n        ],\n        \"semantic_type\": \"\",\n        \"description\": \"\"\n      }\n    },\n    {\n      \"column\": \"Fws\",\n      \"properties\": {\n        \"dtype\": \"number\",\n        \"std\": 0.16088824166470525,\n        \"min\": 0.1549099850443006,\n        \"max\": 1.0,\n        \"num_unique_values\": 24402,\n        \"samples\": [\n          0.6562345597462422\n        ],\n        \"semantic_type\": \"\",\n        \"description\": \"\"\n      }\n    }\n  ]\n}",
       "type": "dataframe",
       "variable_name": "fws_qcplus_samples"
      },
      "text/html": [
       "\n",
       "  <div id=\"df-073f194e-b4ee-4a5d-9b4f-548af8048dd3\" class=\"colab-df-container\">\n",
       "    <div>\n",
       "<style scoped>\n",
       "    .dataframe tbody tr th:only-of-type {\n",
       "        vertical-align: middle;\n",
       "    }\n",
       "\n",
       "    .dataframe tbody tr th {\n",
       "        vertical-align: top;\n",
       "    }\n",
       "\n",
       "    .dataframe thead th {\n",
       "        text-align: right;\n",
       "    }\n",
       "</style>\n",
       "<table border=\"1\" class=\"dataframe\">\n",
       "  <thead>\n",
       "    <tr style=\"text-align: right;\">\n",
       "      <th></th>\n",
       "      <th>Sample</th>\n",
       "      <th>Study</th>\n",
       "      <th>Country</th>\n",
       "      <th>Admin level 1</th>\n",
       "      <th>Country latitude</th>\n",
       "      <th>Country longitude</th>\n",
       "      <th>Admin level 1 latitude</th>\n",
       "      <th>Admin level 1 longitude</th>\n",
       "      <th>Year</th>\n",
       "      <th>ENA</th>\n",
       "      <th>All samples same case</th>\n",
       "      <th>Population</th>\n",
       "      <th>% callable</th>\n",
       "      <th>QC pass</th>\n",
       "      <th>Exclusion reason</th>\n",
       "      <th>Sample type</th>\n",
       "      <th>Sample was in Pf7</th>\n",
       "      <th>Fws</th>\n",
       "    </tr>\n",
       "  </thead>\n",
       "  <tbody>\n",
       "    <tr>\n",
       "      <th>0</th>\n",
       "      <td>FP0008-C</td>\n",
       "      <td>1147-PF-MR-CONWAY</td>\n",
       "      <td>Mauritania</td>\n",
       "      <td>Hodh el Gharbi</td>\n",
       "      <td>20.265149</td>\n",
       "      <td>-10.337093</td>\n",
       "      <td>16.565426</td>\n",
       "      <td>-9.832345</td>\n",
       "      <td>2014.0</td>\n",
       "      <td>ERR1081237</td>\n",
       "      <td>FP0008-C</td>\n",
       "      <td>AF-W</td>\n",
       "      <td>82.48</td>\n",
       "      <td>True</td>\n",
       "      <td>Analysis_set</td>\n",
       "      <td>gDNA</td>\n",
       "      <td>True</td>\n",
       "      <td>0.820692</td>\n",
       "    </tr>\n",
       "    <tr>\n",
       "      <th>1</th>\n",
       "      <td>FP0009-C</td>\n",
       "      <td>1147-PF-MR-CONWAY</td>\n",
       "      <td>Mauritania</td>\n",
       "      <td>Hodh el Gharbi</td>\n",
       "      <td>20.265149</td>\n",
       "      <td>-10.337093</td>\n",
       "      <td>16.565426</td>\n",
       "      <td>-9.832345</td>\n",
       "      <td>2014.0</td>\n",
       "      <td>ERR1081238</td>\n",
       "      <td>FP0009-C</td>\n",
       "      <td>AF-W</td>\n",
       "      <td>88.95</td>\n",
       "      <td>True</td>\n",
       "      <td>Analysis_set</td>\n",
       "      <td>gDNA</td>\n",
       "      <td>True</td>\n",
       "      <td>0.998084</td>\n",
       "    </tr>\n",
       "    <tr>\n",
       "      <th>2</th>\n",
       "      <td>FP0010-CW</td>\n",
       "      <td>1147-PF-MR-CONWAY</td>\n",
       "      <td>Mauritania</td>\n",
       "      <td>Hodh el Gharbi</td>\n",
       "      <td>20.265149</td>\n",
       "      <td>-10.337093</td>\n",
       "      <td>16.565426</td>\n",
       "      <td>-9.832345</td>\n",
       "      <td>2014.0</td>\n",
       "      <td>ERR2889621</td>\n",
       "      <td>FP0010-CW</td>\n",
       "      <td>AF-W</td>\n",
       "      <td>87.01</td>\n",
       "      <td>True</td>\n",
       "      <td>Analysis_set</td>\n",
       "      <td>sWGA</td>\n",
       "      <td>True</td>\n",
       "      <td>0.822654</td>\n",
       "    </tr>\n",
       "    <tr>\n",
       "      <th>3</th>\n",
       "      <td>FP0011-CW</td>\n",
       "      <td>1147-PF-MR-CONWAY</td>\n",
       "      <td>Mauritania</td>\n",
       "      <td>Hodh el Gharbi</td>\n",
       "      <td>20.265149</td>\n",
       "      <td>-10.337093</td>\n",
       "      <td>16.565426</td>\n",
       "      <td>-9.832345</td>\n",
       "      <td>2014.0</td>\n",
       "      <td>ERR2889624</td>\n",
       "      <td>FP0011-CW</td>\n",
       "      <td>AF-W</td>\n",
       "      <td>86.95</td>\n",
       "      <td>True</td>\n",
       "      <td>Analysis_set</td>\n",
       "      <td>sWGA</td>\n",
       "      <td>True</td>\n",
       "      <td>0.755678</td>\n",
       "    </tr>\n",
       "    <tr>\n",
       "      <th>4</th>\n",
       "      <td>FP0012-CW</td>\n",
       "      <td>1147-PF-MR-CONWAY</td>\n",
       "      <td>Mauritania</td>\n",
       "      <td>Hodh el Gharbi</td>\n",
       "      <td>20.265149</td>\n",
       "      <td>-10.337093</td>\n",
       "      <td>16.565426</td>\n",
       "      <td>-9.832345</td>\n",
       "      <td>2014.0</td>\n",
       "      <td>ERR2889627</td>\n",
       "      <td>FP0012-CW</td>\n",
       "      <td>AF-W</td>\n",
       "      <td>89.86</td>\n",
       "      <td>True</td>\n",
       "      <td>Analysis_set</td>\n",
       "      <td>sWGA</td>\n",
       "      <td>True</td>\n",
       "      <td>0.995906</td>\n",
       "    </tr>\n",
       "  </tbody>\n",
       "</table>\n",
       "</div>\n",
       "    <div class=\"colab-df-buttons\">\n",
       "\n",
       "  <div class=\"colab-df-container\">\n",
       "    <button class=\"colab-df-convert\" onclick=\"convertToInteractive('df-073f194e-b4ee-4a5d-9b4f-548af8048dd3')\"\n",
       "            title=\"Convert this dataframe to an interactive table.\"\n",
       "            style=\"display:none;\">\n",
       "\n",
       "  <svg xmlns=\"http://www.w3.org/2000/svg\" height=\"24px\" viewBox=\"0 -960 960 960\">\n",
       "    <path d=\"M120-120v-720h720v720H120Zm60-500h600v-160H180v160Zm220 220h160v-160H400v160Zm0 220h160v-160H400v160ZM180-400h160v-160H180v160Zm440 0h160v-160H620v160ZM180-180h160v-160H180v160Zm440 0h160v-160H620v160Z\"/>\n",
       "  </svg>\n",
       "    </button>\n",
       "\n",
       "  <style>\n",
       "    .colab-df-container {\n",
       "      display:flex;\n",
       "      gap: 12px;\n",
       "    }\n",
       "\n",
       "    .colab-df-convert {\n",
       "      background-color: #E8F0FE;\n",
       "      border: none;\n",
       "      border-radius: 50%;\n",
       "      cursor: pointer;\n",
       "      display: none;\n",
       "      fill: #1967D2;\n",
       "      height: 32px;\n",
       "      padding: 0 0 0 0;\n",
       "      width: 32px;\n",
       "    }\n",
       "\n",
       "    .colab-df-convert:hover {\n",
       "      background-color: #E2EBFA;\n",
       "      box-shadow: 0px 1px 2px rgba(60, 64, 67, 0.3), 0px 1px 3px 1px rgba(60, 64, 67, 0.15);\n",
       "      fill: #174EA6;\n",
       "    }\n",
       "\n",
       "    .colab-df-buttons div {\n",
       "      margin-bottom: 4px;\n",
       "    }\n",
       "\n",
       "    [theme=dark] .colab-df-convert {\n",
       "      background-color: #3B4455;\n",
       "      fill: #D2E3FC;\n",
       "    }\n",
       "\n",
       "    [theme=dark] .colab-df-convert:hover {\n",
       "      background-color: #434B5C;\n",
       "      box-shadow: 0px 1px 3px 1px rgba(0, 0, 0, 0.15);\n",
       "      filter: drop-shadow(0px 1px 2px rgba(0, 0, 0, 0.3));\n",
       "      fill: #FFFFFF;\n",
       "    }\n",
       "  </style>\n",
       "\n",
       "    <script>\n",
       "      const buttonEl =\n",
       "        document.querySelector('#df-073f194e-b4ee-4a5d-9b4f-548af8048dd3 button.colab-df-convert');\n",
       "      buttonEl.style.display =\n",
       "        google.colab.kernel.accessAllowed ? 'block' : 'none';\n",
       "\n",
       "      async function convertToInteractive(key) {\n",
       "        const element = document.querySelector('#df-073f194e-b4ee-4a5d-9b4f-548af8048dd3');\n",
       "        const dataTable =\n",
       "          await google.colab.kernel.invokeFunction('convertToInteractive',\n",
       "                                                    [key], {});\n",
       "        if (!dataTable) return;\n",
       "\n",
       "        const docLinkHtml = 'Like what you see? Visit the ' +\n",
       "          '<a target=\"_blank\" href=https://colab.research.google.com/notebooks/data_table.ipynb>data table notebook</a>'\n",
       "          + ' to learn more about interactive tables.';\n",
       "        element.innerHTML = '';\n",
       "        dataTable['output_type'] = 'display_data';\n",
       "        await google.colab.output.renderOutput(dataTable, element);\n",
       "        const docLink = document.createElement('div');\n",
       "        docLink.innerHTML = docLinkHtml;\n",
       "        element.appendChild(docLink);\n",
       "      }\n",
       "    </script>\n",
       "  </div>\n",
       "\n",
       "\n",
       "<div id=\"df-8f7f2d60-dff1-40e8-806e-0c0e89fd55d3\">\n",
       "  <button class=\"colab-df-quickchart\" onclick=\"quickchart('df-8f7f2d60-dff1-40e8-806e-0c0e89fd55d3')\"\n",
       "            title=\"Suggest charts\"\n",
       "            style=\"display:none;\">\n",
       "\n",
       "<svg xmlns=\"http://www.w3.org/2000/svg\" height=\"24px\"viewBox=\"0 0 24 24\"\n",
       "     width=\"24px\">\n",
       "    <g>\n",
       "        <path d=\"M19 3H5c-1.1 0-2 .9-2 2v14c0 1.1.9 2 2 2h14c1.1 0 2-.9 2-2V5c0-1.1-.9-2-2-2zM9 17H7v-7h2v7zm4 0h-2V7h2v10zm4 0h-2v-4h2v4z\"/>\n",
       "    </g>\n",
       "</svg>\n",
       "  </button>\n",
       "\n",
       "<style>\n",
       "  .colab-df-quickchart {\n",
       "      --bg-color: #E8F0FE;\n",
       "      --fill-color: #1967D2;\n",
       "      --hover-bg-color: #E2EBFA;\n",
       "      --hover-fill-color: #174EA6;\n",
       "      --disabled-fill-color: #AAA;\n",
       "      --disabled-bg-color: #DDD;\n",
       "  }\n",
       "\n",
       "  [theme=dark] .colab-df-quickchart {\n",
       "      --bg-color: #3B4455;\n",
       "      --fill-color: #D2E3FC;\n",
       "      --hover-bg-color: #434B5C;\n",
       "      --hover-fill-color: #FFFFFF;\n",
       "      --disabled-bg-color: #3B4455;\n",
       "      --disabled-fill-color: #666;\n",
       "  }\n",
       "\n",
       "  .colab-df-quickchart {\n",
       "    background-color: var(--bg-color);\n",
       "    border: none;\n",
       "    border-radius: 50%;\n",
       "    cursor: pointer;\n",
       "    display: none;\n",
       "    fill: var(--fill-color);\n",
       "    height: 32px;\n",
       "    padding: 0;\n",
       "    width: 32px;\n",
       "  }\n",
       "\n",
       "  .colab-df-quickchart:hover {\n",
       "    background-color: var(--hover-bg-color);\n",
       "    box-shadow: 0 1px 2px rgba(60, 64, 67, 0.3), 0 1px 3px 1px rgba(60, 64, 67, 0.15);\n",
       "    fill: var(--button-hover-fill-color);\n",
       "  }\n",
       "\n",
       "  .colab-df-quickchart-complete:disabled,\n",
       "  .colab-df-quickchart-complete:disabled:hover {\n",
       "    background-color: var(--disabled-bg-color);\n",
       "    fill: var(--disabled-fill-color);\n",
       "    box-shadow: none;\n",
       "  }\n",
       "\n",
       "  .colab-df-spinner {\n",
       "    border: 2px solid var(--fill-color);\n",
       "    border-color: transparent;\n",
       "    border-bottom-color: var(--fill-color);\n",
       "    animation:\n",
       "      spin 1s steps(1) infinite;\n",
       "  }\n",
       "\n",
       "  @keyframes spin {\n",
       "    0% {\n",
       "      border-color: transparent;\n",
       "      border-bottom-color: var(--fill-color);\n",
       "      border-left-color: var(--fill-color);\n",
       "    }\n",
       "    20% {\n",
       "      border-color: transparent;\n",
       "      border-left-color: var(--fill-color);\n",
       "      border-top-color: var(--fill-color);\n",
       "    }\n",
       "    30% {\n",
       "      border-color: transparent;\n",
       "      border-left-color: var(--fill-color);\n",
       "      border-top-color: var(--fill-color);\n",
       "      border-right-color: var(--fill-color);\n",
       "    }\n",
       "    40% {\n",
       "      border-color: transparent;\n",
       "      border-right-color: var(--fill-color);\n",
       "      border-top-color: var(--fill-color);\n",
       "    }\n",
       "    60% {\n",
       "      border-color: transparent;\n",
       "      border-right-color: var(--fill-color);\n",
       "    }\n",
       "    80% {\n",
       "      border-color: transparent;\n",
       "      border-right-color: var(--fill-color);\n",
       "      border-bottom-color: var(--fill-color);\n",
       "    }\n",
       "    90% {\n",
       "      border-color: transparent;\n",
       "      border-bottom-color: var(--fill-color);\n",
       "    }\n",
       "  }\n",
       "</style>\n",
       "\n",
       "  <script>\n",
       "    async function quickchart(key) {\n",
       "      const quickchartButtonEl =\n",
       "        document.querySelector('#' + key + ' button');\n",
       "      quickchartButtonEl.disabled = true;  // To prevent multiple clicks.\n",
       "      quickchartButtonEl.classList.add('colab-df-spinner');\n",
       "      try {\n",
       "        const charts = await google.colab.kernel.invokeFunction(\n",
       "            'suggestCharts', [key], {});\n",
       "      } catch (error) {\n",
       "        console.error('Error during call to suggestCharts:', error);\n",
       "      }\n",
       "      quickchartButtonEl.classList.remove('colab-df-spinner');\n",
       "      quickchartButtonEl.classList.add('colab-df-quickchart-complete');\n",
       "    }\n",
       "    (() => {\n",
       "      let quickchartButtonEl =\n",
       "        document.querySelector('#df-8f7f2d60-dff1-40e8-806e-0c0e89fd55d3 button');\n",
       "      quickchartButtonEl.style.display =\n",
       "        google.colab.kernel.accessAllowed ? 'block' : 'none';\n",
       "    })();\n",
       "  </script>\n",
       "</div>\n",
       "\n",
       "    </div>\n",
       "  </div>\n"
      ],
      "text/plain": [
       "      Sample              Study     Country   Admin level 1  Country latitude  \\\n",
       "0   FP0008-C  1147-PF-MR-CONWAY  Mauritania  Hodh el Gharbi         20.265149   \n",
       "1   FP0009-C  1147-PF-MR-CONWAY  Mauritania  Hodh el Gharbi         20.265149   \n",
       "2  FP0010-CW  1147-PF-MR-CONWAY  Mauritania  Hodh el Gharbi         20.265149   \n",
       "3  FP0011-CW  1147-PF-MR-CONWAY  Mauritania  Hodh el Gharbi         20.265149   \n",
       "4  FP0012-CW  1147-PF-MR-CONWAY  Mauritania  Hodh el Gharbi         20.265149   \n",
       "\n",
       "   Country longitude  Admin level 1 latitude  Admin level 1 longitude    Year  \\\n",
       "0         -10.337093               16.565426                -9.832345  2014.0   \n",
       "1         -10.337093               16.565426                -9.832345  2014.0   \n",
       "2         -10.337093               16.565426                -9.832345  2014.0   \n",
       "3         -10.337093               16.565426                -9.832345  2014.0   \n",
       "4         -10.337093               16.565426                -9.832345  2014.0   \n",
       "\n",
       "          ENA All samples same case Population  % callable  QC pass  \\\n",
       "0  ERR1081237              FP0008-C       AF-W       82.48     True   \n",
       "1  ERR1081238              FP0009-C       AF-W       88.95     True   \n",
       "2  ERR2889621             FP0010-CW       AF-W       87.01     True   \n",
       "3  ERR2889624             FP0011-CW       AF-W       86.95     True   \n",
       "4  ERR2889627             FP0012-CW       AF-W       89.86     True   \n",
       "\n",
       "  Exclusion reason Sample type  Sample was in Pf7       Fws  \n",
       "0     Analysis_set        gDNA               True  0.820692  \n",
       "1     Analysis_set        gDNA               True  0.998084  \n",
       "2     Analysis_set        sWGA               True  0.822654  \n",
       "3     Analysis_set        sWGA               True  0.755678  \n",
       "4     Analysis_set        sWGA               True  0.995906  "
      ]
     },
     "execution_count": 6,
     "metadata": {},
     "output_type": "execute_result"
    }
   ],
   "source": [
    "# Match FWS scores to corresponding QC-passed samples by merging the data frames\n",
    "fws_qcplus_samples = pd.merge(qcplus_samples, fws_df, on='Sample', how='left')\n",
    "fws_qcplus_samples.head()"
   ]
  },
  {
   "cell_type": "code",
   "execution_count": 7,
   "metadata": {
    "colab": {
     "base_uri": "https://localhost:8080/"
    },
    "id": "DdhS0ADWX2Fu",
    "outputId": "8410ca39-92d7-4a46-dab5-db08303e09c7"
   },
   "outputs": [
    {
     "data": {
      "text/plain": [
       "(24409, 18)"
      ]
     },
     "execution_count": 7,
     "metadata": {},
     "output_type": "execute_result"
    }
   ],
   "source": [
    "# Check there are as many samples as we expected (24,409)\n",
    "fws_qcplus_samples.shape\n"
   ]
  },
  {
   "cell_type": "markdown",
   "metadata": {
    "id": "fHu2AWbIbBUW"
   },
   "source": [
    "## Generate population-level summaries\n",
    "\n",
    "Here we define the ten subpopulations present in Pf8, listing their acronyms, full names, and assigning colours to be used in plotting. We store the information in an ordered dictionary."
   ]
  },
  {
   "cell_type": "code",
   "execution_count": 8,
   "metadata": {
    "id": "OzqAG0pMUTXR",
    "tags": []
   },
   "outputs": [],
   "source": [
    "georegions = collections.OrderedDict([\n",
    "    ('SA',dict(n='South America', c='#4daf4a')),\n",
    "    ('AF-W',dict(n='West Africa', c='#e31a1c')),\n",
    "    ('AF-C',dict(n='Central Africa', c='#fd8d3c')),\n",
    "    ('AF-NE',dict(n='Northeast Africa', c='#bb8129')),\n",
    "    ('AF-E',dict(n='East Africa', c='#fecc5c')),\n",
    "    ('AS-S-E',dict(n='Eastern South Asia', c='#dfc0eb')),\n",
    "    ('AS-S-FE',dict(n='Far-Eastern South Asia', c='#984ea3')),\n",
    "    ('AS-SE-W',dict(n='Western Southeast Asia', c='#9ecae1')),\n",
    "    ('AS-SE-E',dict(n='Eastern Southeast Asia', c='#3182bd')),\n",
    "    ('OC-NG',dict(n='Oceania and Papua New Guinea', c='#f781bf'))])"
   ]
  },
  {
   "cell_type": "markdown",
   "metadata": {
    "id": "6gQVe5GbbvsW"
   },
   "source": [
    "We can generate summaries of F<sub>*WS*</sub>  for each population"
   ]
  },
  {
   "cell_type": "code",
   "execution_count": 9,
   "metadata": {
    "colab": {
     "base_uri": "https://localhost:8080/"
    },
    "id": "f7rSIxEnbr3_",
    "outputId": "47af447b-3136-4b80-d04d-8c0e2d5d9175"
   },
   "outputs": [
    {
     "name": "stdout",
     "output_type": "stream",
     "text": [
      "SA: Mean = 0.988, Median = 0.998, Range = (0.585, 1.000)\n",
      "AF-W: Mean = 0.867, Median = 0.974, Range = (0.155, 1.000)\n",
      "AF-C: Mean = 0.868, Median = 0.958, Range = (0.225, 1.000)\n",
      "AF-NE: Mean = 0.900, Median = 0.996, Range = (0.241, 1.000)\n",
      "AF-E: Mean = 0.842, Median = 0.951, Range = (0.181, 1.000)\n",
      "AS-S-E: Mean = 0.914, Median = 0.992, Range = (0.441, 1.000)\n",
      "AS-S-FE: Mean = 0.910, Median = 0.994, Range = (0.354, 1.000)\n",
      "AS-SE-W: Mean = 0.960, Median = 0.997, Range = (0.402, 1.000)\n",
      "AS-SE-E: Mean = 0.967, Median = 0.996, Range = (0.356, 1.000)\n",
      "OC-NG: Mean = 0.964, Median = 0.998, Range = (0.477, 1.000)\n"
     ]
    }
   ],
   "source": [
    "for p in georegions.keys():\n",
    "\n",
    "    # Filter the data for the current population\n",
    "    population_data = fws_qcplus_samples[fws_qcplus_samples['Population'] == p]['Fws']\n",
    "\n",
    "    # Calculate mean, median, min, and max\n",
    "    mean_fws = np.nanmean(population_data)\n",
    "    median_fws = np.nanmedian(population_data)\n",
    "    min_fws = np.nanmin(population_data)\n",
    "    max_fws = np.nanmax(population_data)\n",
    "\n",
    "    # Print the results\n",
    "    print(\n",
    "        f\"{p}: Mean = {mean_fws:.03f}, Median = {median_fws:.03f}, \"\n",
    "        f\"Range = ({min_fws:.03f}, {max_fws:.03f})\"\n",
    "    )"
   ]
  },
  {
   "cell_type": "markdown",
   "metadata": {
    "id": "m3hgeN3rb_pT"
   },
   "source": [
    "## Plot the data\n",
    "\n",
    "We will generate a box plot to display the data. For simplicity, we exclude outliers from displaying in the plot.\n",
    "\n",
    "**What does a box plot show?**\n",
    "\n",
    "- Coloured box: the middle 50% of values for each population. This is also known as the interquartile range.\n",
    "- Line inside the box: the median value for each population.\n",
    "- Whiskers: the lines extending from the box show the range of F<sub>*WS*</sub> values, excluding extreme outliers."
   ]
  },
  {
   "cell_type": "code",
   "execution_count": 10,
   "metadata": {
    "colab": {
     "base_uri": "https://localhost:8080/",
     "height": 612
    },
    "id": "RrwGVkK1UTXS",
    "outputId": "ca019492-5c16-4e1e-c124-81fbc1e9e971"
   },
   "outputs": [
    {
     "data": {
      "image/png": "[encoded data removed]",
      "text/plain": [
       "<Figure size 1000x600 with 1 Axes>"
      ]
     },
     "metadata": {},
     "output_type": "display_data"
    }
   ],
   "source": [
    "# Set up plot parameters\n",
    "rcParams = plt.rcParams\n",
    "rcParams['font.size'] = 12\n",
    "rcParams['axes.labelsize'] = 14\n",
    "plt.rcParams['xtick.labelsize'] = 14\n",
    "plt.rcParams['ytick.labelsize'] = 14\n",
    "\n",
    "fig, ax = plt.subplots(figsize=(10, 6)) # Figure size\n",
    "\n",
    "# Hide spines (the plot space outline)\n",
    "ax.spines['right'].set_visible(False)\n",
    "ax.spines['top'].set_visible(False)\n",
    "\n",
    "# List all populations\n",
    "all_pops = [g for g in georegions.keys()]\n",
    "\n",
    "# Set up the number of boxplot positions to account for all populations\n",
    "pos = np.arange(1, len(all_pops) + 1)\n",
    "\n",
    "# Create boxplot without outliers\n",
    "bplt = ax.boxplot(\n",
    "    [np.array(fws_qcplus_samples[fws_qcplus_samples['Population'] == g]['Fws']) for g in georegions.keys()],\n",
    "    medianprops=dict(color='black', linewidth=2.5, solid_capstyle='butt'),\n",
    "    patch_artist=True,\n",
    "    positions=pos,\n",
    "    showfliers=False  # Hides outliers\n",
    ")\n",
    "\n",
    "# Color each box according to georegions\n",
    "for patch, color in zip(bplt['boxes'], [georegions[x]['c'] for x in all_pops]):\n",
    "    patch.set_facecolor(color)\n",
    "\n",
    "# Set axis limits and labels\n",
    "ax.set_ylim([0, 1])\n",
    "ax.set_ylabel(r'F$_w$$_s$')\n",
    "ax.set_xlabel('Population')\n",
    "\n",
    "# Add x-axis labels\n",
    "ax.set_xticks(pos)\n",
    "ax.set_xticklabels(all_pops, rotation=45, ha='right')\n",
    "\n",
    "# Show plot\n",
    "plt.show()\n"
   ]
  },
  {
   "cell_type": "markdown",
   "metadata": {
    "id": "AP6dfscuUTXS"
   },
   "source": [
    "**Figure legend:** F<sub>*WS*</sub> scores per subpopulation in Pf8. We can see that African populations tend to have lower F<sub>*WS*</sub> , indicating that these samples tend to be formed of a mix of parasite strains. This is expected in a region like Africa, where malaria transmission is high. The exception is that Northeast Africa shows intermediate levels of sample clonality, more similar to South Asian populations.  We see very clonal samples in South America, Southeast Asia, and Oceania."
   ]
  },
  {
   "cell_type": "markdown",
   "metadata": {
    "id": "CBVGlsc9hZbc"
   },
   "source": [
    "## Save the figure"
   ]
  },
  {
   "cell_type": "code",
   "execution_count": 11,
   "metadata": {
    "colab": {
     "base_uri": "https://localhost:8080/"
    },
    "id": "I4rgyE15hTYb",
    "outputId": "714391fd-0f86-4d12-f747-d5fe9a1eacd2"
   },
   "outputs": [
    {
     "name": "stdout",
     "output_type": "stream",
     "text": [
      "Mounted at /content/drive\n"
     ]
    }
   ],
   "source": [
    "# You will need to authorise Google Colab access to Google Drive\n",
    "drive.mount('/content/drive')"
   ]
  },
  {
   "cell_type": "code",
   "execution_count": 13,
   "metadata": {
    "id": "gu8hE-cZhUuU"
   },
   "outputs": [],
   "source": [
    "# This will send the file to your Google Drive, where you can download it from if needed\n",
    "# Change the file path if you wish to send the file to a specific location\n",
    "# Change the file name if you wish to call it something else\n",
    "\n",
    "fig.savefig('/content/drive/My Drive/FWS_figure.pdf', bbox_inches='tight')\n",
    "fig.savefig('/content/drive/My Drive/FWS_Figure.png', dpi=480, bbox_inches='tight') # increase the dpi for higher resolution"
   ]
  },
  {
   "cell_type": "code",
   "execution_count": null,
   "metadata": {
    "id": "bFj4z_mziME7"
   },
   "outputs": [],
   "source": []
  }
 ],
 "metadata": {
  "colab": {
   "provenance": []
  },
  "kernelspec": {
   "display_name": "Python 3",
   "language": "python",
   "name": "python3"
  },
  "language_info": {
   "codemirror_mode": {
    "name": "ipython",
    "version": 3
   },
   "file_extension": ".py",
   "mimetype": "text/x-python",
   "name": "python",
   "nbconvert_exporter": "python",
   "pygments_lexer": "ipython3",
   "version": "3.11.10"
  }
 },
 "nbformat": 4,
 "nbformat_minor": 4
}
