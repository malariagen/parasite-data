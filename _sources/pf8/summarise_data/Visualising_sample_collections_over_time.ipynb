{
 "cells": [
  {
   "cell_type": "markdown",
   "metadata": {
    "id": "SahHmWXTfTCm"
   },
   "source": [
    "# Visualising sample collections over time"
   ]
  },
  {
   "cell_type": "markdown",
   "metadata": {
    "id": "Iv23x9V3DNM7"
   },
   "source": [
    "### Introduction\n",
    "\n",
    "This notebook creates a figure which shows the distribution of *Plasmodium falciparum* samples, based on when they were collected. The figure highlights the additional data collected for the latest release (Pf8), in relation to those collected for previous work (Pf7).\n",
    "\n",
    "**This notebook should take less than 2 minutes to run.**"
   ]
  },
  {
   "cell_type": "markdown",
   "metadata": {
    "id": "nhA0ZmATgTRw"
   },
   "source": [
    "## Setup\n",
    "\n",
    "First, we need to ensure we have the packages installed which are needed to run the analysis. The code below installs the MalariaGEN data package, which is used to access the Pf8 data via the cloud."
   ]
  },
  {
   "cell_type": "code",
   "execution_count": 1,
   "metadata": {
    "colab": {
     "base_uri": "https://localhost:8080/"
    },
    "id": "ugGPAgpGp_Sk",
    "outputId": "c0b95042-508b-4f93-c86f-fc427a368be4"
   },
   "outputs": [
    {
     "name": "stdout",
     "output_type": "stream",
     "text": [
      "  Installing build dependencies ... \u001b[?25l\u001b[?25hdone\n",
      "  Getting requirements to build wheel ... \u001b[?25l\u001b[?25hdone\n",
      "  Preparing metadata (pyproject.toml) ... \u001b[?25l\u001b[?25hdone\n",
      "\u001b[2K     \u001b[90m━━━━━━━━━━━━━━━━━━━━━━━━━━━━━━━━━━━━━━━━\u001b[0m \u001b[32m4.0/4.0 MB\u001b[0m \u001b[31m41.4 MB/s\u001b[0m eta \u001b[36m0:00:00\u001b[0m\n",
      "\u001b[?25h  Preparing metadata (setup.py) ... \u001b[?25l\u001b[?25hdone\n",
      "  Preparing metadata (setup.py) ... \u001b[?25l\u001b[?25hdone\n",
      "\u001b[2K   \u001b[90m━━━━━━━━━━━━━━━━━━━━━━━━━━━━━━━━━━━━━━━━\u001b[0m \u001b[32m71.7/71.7 kB\u001b[0m \u001b[31m2.2 MB/s\u001b[0m eta \u001b[36m0:00:00\u001b[0m\n",
      "\u001b[2K   \u001b[90m━━━━━━━━━━━━━━━━━━━━━━━━━━━━━━━━━━━━━━━━\u001b[0m \u001b[32m775.9/775.9 kB\u001b[0m \u001b[31m35.1 MB/s\u001b[0m eta \u001b[36m0:00:00\u001b[0m\n",
      "\u001b[2K   \u001b[90m━━━━━━━━━━━━━━━━━━━━━━━━━━━━━━━━━━━━━━━━\u001b[0m \u001b[32m25.9/25.9 MB\u001b[0m \u001b[31m40.1 MB/s\u001b[0m eta \u001b[36m0:00:00\u001b[0m\n",
      "\u001b[2K   \u001b[90m━━━━━━━━━━━━━━━━━━━━━━━━━━━━━━━━━━━━━━━━\u001b[0m \u001b[32m8.7/8.7 MB\u001b[0m \u001b[31m58.1 MB/s\u001b[0m eta \u001b[36m0:00:00\u001b[0m\n",
      "\u001b[2K   \u001b[90m━━━━━━━━━━━━━━━━━━━━━━━━━━━━━━━━━━━━━━━━\u001b[0m \u001b[32m210.6/210.6 kB\u001b[0m \u001b[31m14.2 MB/s\u001b[0m eta \u001b[36m0:00:00\u001b[0m\n",
      "\u001b[2K   \u001b[90m━━━━━━━━━━━━━━━━━━━━━━━━━━━━━━━━━━━━━━━━\u001b[0m \u001b[32m6.3/6.3 MB\u001b[0m \u001b[31m53.2 MB/s\u001b[0m eta \u001b[36m0:00:00\u001b[0m\n",
      "\u001b[2K   \u001b[90m━━━━━━━━━━━━━━━━━━━━━━━━━━━━━━━━━━━━━━━━\u001b[0m \u001b[32m3.3/3.3 MB\u001b[0m \u001b[31m52.4 MB/s\u001b[0m eta \u001b[36m0:00:00\u001b[0m\n",
      "\u001b[2K   \u001b[90m━━━━━━━━━━━━━━━━━━━━━━━━━━━━━━━━━━━━━━━━\u001b[0m \u001b[32m7.8/7.8 MB\u001b[0m \u001b[31m58.9 MB/s\u001b[0m eta \u001b[36m0:00:00\u001b[0m\n",
      "\u001b[2K   \u001b[90m━━━━━━━━━━━━━━━━━━━━━━━━━━━━━━━━━━━━━━━━\u001b[0m \u001b[32m78.1/78.1 kB\u001b[0m \u001b[31m5.7 MB/s\u001b[0m eta \u001b[36m0:00:00\u001b[0m\n",
      "\u001b[2K   \u001b[90m━━━━━━━━━━━━━━━━━━━━━━━━━━━━━━━━━━━━━━━━\u001b[0m \u001b[32m101.7/101.7 kB\u001b[0m \u001b[31m7.3 MB/s\u001b[0m eta \u001b[36m0:00:00\u001b[0m\n",
      "\u001b[2K   \u001b[90m━━━━━━━━━━━━━━━━━━━━━━━━━━━━━━━━━━━━━━━━\u001b[0m \u001b[32m8.9/8.9 MB\u001b[0m \u001b[31m87.7 MB/s\u001b[0m eta \u001b[36m0:00:00\u001b[0m\n",
      "\u001b[2K   \u001b[90m━━━━━━━━━━━━━━━━━━━━━━━━━━━━━━━━━━━━━━━━\u001b[0m \u001b[32m228.0/228.0 kB\u001b[0m \u001b[31m15.5 MB/s\u001b[0m eta \u001b[36m0:00:00\u001b[0m\n",
      "\u001b[2K   \u001b[90m━━━━━━━━━━━━━━━━━━━━━━━━━━━━━━━━━━━━━━━━\u001b[0m \u001b[32m13.4/13.4 MB\u001b[0m \u001b[31m85.8 MB/s\u001b[0m eta \u001b[36m0:00:00\u001b[0m\n",
      "\u001b[2K   \u001b[90m━━━━━━━━━━━━━━━━━━━━━━━━━━━━━━━━━━━━━━━━\u001b[0m \u001b[32m1.6/1.6 MB\u001b[0m \u001b[31m60.6 MB/s\u001b[0m eta \u001b[36m0:00:00\u001b[0m\n",
      "\u001b[?25h  Building wheel for malariagen_data (pyproject.toml) ... \u001b[?25l\u001b[?25hdone\n",
      "  Building wheel for dash-cytoscape (setup.py) ... \u001b[?25l\u001b[?25hdone\n",
      "  Building wheel for asciitree (setup.py) ... \u001b[?25l\u001b[?25hdone\n"
     ]
    }
   ],
   "source": [
    "!pip install malariagen_data -q --no-warn-conflicts\n",
    "import malariagen_data"
   ]
  },
  {
   "cell_type": "code",
   "execution_count": 2,
   "metadata": {
    "id": "B1mxjiN2gaDn"
   },
   "outputs": [],
   "source": [
    "# Install package\n",
    "!pip install -q --no-warn-conflicts malariagen_data"
   ]
  },
  {
   "cell_type": "markdown",
   "metadata": {
    "id": "M3bJx7-GBCnS"
   },
   "source": [
    "Load the required Python libraries:"
   ]
  },
  {
   "cell_type": "code",
   "execution_count": 3,
   "metadata": {
    "id": "mfmI2dQhDNM-"
   },
   "outputs": [],
   "source": [
    "# Import previously installed packages\n",
    "import malariagen_data\n",
    "import numpy as np\n",
    "import pandas as pd\n",
    "import matplotlib.pyplot as plt\n",
    "from google.colab import drive"
   ]
  },
  {
   "cell_type": "markdown",
   "metadata": {
    "id": "A1GE4_3Eg8yn"
   },
   "source": [
    "## Data Access\n",
    "\n",
    "First load the Pf8 metadata, then output the top of the dataframe to check it is what we are expecting:\n"
   ]
  },
  {
   "cell_type": "code",
   "execution_count": 4,
   "metadata": {
    "colab": {
     "base_uri": "https://localhost:8080/",
     "height": 206
    },
    "id": "1jnYA1GDDNM_",
    "outputId": "d3c38c9e-730e-400f-9be5-725fa8b4193e"
   },
   "outputs": [
    {
     "data": {
      "application/vnd.google.colaboratory.intrinsic+json": {
       "summary": "{\n  \"name\": \"sample_metadata\",\n  \"rows\": 33325,\n  \"fields\": [\n    {\n      \"column\": \"Sample\",\n      \"properties\": {\n        \"dtype\": \"string\",\n        \"num_unique_values\": 33325,\n        \"samples\": [\n          \"SPT50302\",\n          \"RCN08686\",\n          \"PD1008-C\"\n        ],\n        \"semantic_type\": \"\",\n        \"description\": \"\"\n      }\n    },\n    {\n      \"column\": \"Study\",\n      \"properties\": {\n        \"dtype\": \"category\",\n        \"num_unique_values\": 99,\n        \"samples\": [\n          \"1108-PF-GAB-BOUYOU-AKOTET\",\n          \"1134-PF-ML-CONWAY\",\n          \"1248-PF-MW-MCCANN-SM\"\n        ],\n        \"semantic_type\": \"\",\n        \"description\": \"\"\n      }\n    },\n    {\n      \"column\": \"Country\",\n      \"properties\": {\n        \"dtype\": \"category\",\n        \"num_unique_values\": 34,\n        \"samples\": [\n          \"Vietnam\",\n          \"Myanmar\",\n          \"Benin\"\n        ],\n        \"semantic_type\": \"\",\n        \"description\": \"\"\n      }\n    },\n    {\n      \"column\": \"Admin level 1\",\n      \"properties\": {\n        \"dtype\": \"category\",\n        \"num_unique_values\": 122,\n        \"samples\": [\n          \"Central\",\n          \"Tanintharyi\",\n          \"Mandalay\"\n        ],\n        \"semantic_type\": \"\",\n        \"description\": \"\"\n      }\n    },\n    {\n      \"column\": \"Country latitude\",\n      \"properties\": {\n        \"dtype\": \"number\",\n        \"std\": 10.038786162655637,\n        \"min\": -19.37564815406632,\n        \"max\": 23.83676210254897,\n        \"num_unique_values\": 34,\n        \"samples\": [\n          16.69436455,\n          21.117142514264128,\n          9.654223250770558\n        ],\n        \"semantic_type\": \"\",\n        \"description\": \"\"\n      }\n    },\n    {\n      \"column\": \"Country longitude\",\n      \"properties\": {\n        \"dtype\": \"number\",\n        \"std\": 47.984959548013094,\n        \"min\": -86.61620049368882,\n        \"max\": 145.25400675267255,\n        \"num_unique_values\": 34,\n        \"samples\": [\n          106.55179596,\n          96.51020132013552,\n          2.339712982208921\n        ],\n        \"semantic_type\": \"\",\n        \"description\": \"\"\n      }\n    },\n    {\n      \"column\": \"Admin level 1 latitude\",\n      \"properties\": {\n        \"dtype\": \"number\",\n        \"std\": 10.380792971121629,\n        \"min\": -25.52759199095002,\n        \"max\": 26.07383704651308,\n        \"num_unique_values\": 123,\n        \"samples\": [\n          5.560964256901143,\n          12.661493915029125,\n          21.20922330626896\n        ],\n        \"semantic_type\": \"\",\n        \"description\": \"\"\n      }\n    },\n    {\n      \"column\": \"Admin level 1 longitude\",\n      \"properties\": {\n        \"dtype\": \"number\",\n        \"std\": 49.10306563588118,\n        \"min\": -87.18812587071439,\n        \"max\": 150.84596252,\n        \"num_unique_values\": 123,\n        \"samples\": [\n          -1.1972257865739595,\n          98.74518851348084,\n          96.00349430157443\n        ],\n        \"semantic_type\": \"\",\n        \"description\": \"\"\n      }\n    },\n    {\n      \"column\": \"Year\",\n      \"properties\": {\n        \"dtype\": \"number\",\n        \"std\": 5.250367741391281,\n        \"min\": 1966.0,\n        \"max\": 2022.0,\n        \"num_unique_values\": 39,\n        \"samples\": [\n          1967.0,\n          1970.0,\n          2013.0\n        ],\n        \"semantic_type\": \"\",\n        \"description\": \"\"\n      }\n    },\n    {\n      \"column\": \"ENA\",\n      \"properties\": {\n        \"dtype\": \"string\",\n        \"num_unique_values\": 33192,\n        \"samples\": [\n          \"ERR388777\",\n          \"ERR5839312\",\n          \"ERR10893230\"\n        ],\n        \"semantic_type\": \"\",\n        \"description\": \"\"\n      }\n    },\n    {\n      \"column\": \"All samples same case\",\n      \"properties\": {\n        \"dtype\": \"string\",\n        \"num_unique_values\": 31608,\n        \"samples\": [\n          \"SPT70928\",\n          \"SPT15573\",\n          \"SPT90741\"\n        ],\n        \"semantic_type\": \"\",\n        \"description\": \"\"\n      }\n    },\n    {\n      \"column\": \"Population\",\n      \"properties\": {\n        \"dtype\": \"category\",\n        \"num_unique_values\": 10,\n        \"samples\": [\n          \"AF-C\",\n          \"AF-E\",\n          \"OC-NG\"\n        ],\n        \"semantic_type\": \"\",\n        \"description\": \"\"\n      }\n    },\n    {\n      \"column\": \"% callable\",\n      \"properties\": {\n        \"dtype\": \"number\",\n        \"std\": 28.960883670035095,\n        \"min\": 0.0,\n        \"max\": 95.12,\n        \"num_unique_values\": 7049,\n        \"samples\": [\n          23.9,\n          78.7,\n          45.94\n        ],\n        \"semantic_type\": \"\",\n        \"description\": \"\"\n      }\n    },\n    {\n      \"column\": \"QC pass\",\n      \"properties\": {\n        \"dtype\": \"boolean\",\n        \"num_unique_values\": 2,\n        \"samples\": [\n          false,\n          true\n        ],\n        \"semantic_type\": \"\",\n        \"description\": \"\"\n      }\n    },\n    {\n      \"column\": \"Exclusion reason\",\n      \"properties\": {\n        \"dtype\": \"category\",\n        \"num_unique_values\": 6,\n        \"samples\": [\n          \"Analysis_set\",\n          \"Low_coverage\"\n        ],\n        \"semantic_type\": \"\",\n        \"description\": \"\"\n      }\n    },\n    {\n      \"column\": \"Sample type\",\n      \"properties\": {\n        \"dtype\": \"category\",\n        \"num_unique_values\": 3,\n        \"samples\": [\n          \"gDNA\",\n          \"sWGA\"\n        ],\n        \"semantic_type\": \"\",\n        \"description\": \"\"\n      }\n    },\n    {\n      \"column\": \"Sample was in Pf7\",\n      \"properties\": {\n        \"dtype\": \"boolean\",\n        \"num_unique_values\": 2,\n        \"samples\": [\n          false,\n          true\n        ],\n        \"semantic_type\": \"\",\n        \"description\": \"\"\n      }\n    }\n  ]\n}",
       "type": "dataframe",
       "variable_name": "sample_metadata"
      },
      "text/html": [
       "\n",
       "  <div id=\"df-4bc72881-0938-43a5-8ddb-360e7308b859\" class=\"colab-df-container\">\n",
       "    <div>\n",
       "<style scoped>\n",
       "    .dataframe tbody tr th:only-of-type {\n",
       "        vertical-align: middle;\n",
       "    }\n",
       "\n",
       "    .dataframe tbody tr th {\n",
       "        vertical-align: top;\n",
       "    }\n",
       "\n",
       "    .dataframe thead th {\n",
       "        text-align: right;\n",
       "    }\n",
       "</style>\n",
       "<table border=\"1\" class=\"dataframe\">\n",
       "  <thead>\n",
       "    <tr style=\"text-align: right;\">\n",
       "      <th></th>\n",
       "      <th>Sample</th>\n",
       "      <th>Study</th>\n",
       "      <th>Country</th>\n",
       "      <th>Admin level 1</th>\n",
       "      <th>Country latitude</th>\n",
       "      <th>Country longitude</th>\n",
       "      <th>Admin level 1 latitude</th>\n",
       "      <th>Admin level 1 longitude</th>\n",
       "      <th>Year</th>\n",
       "      <th>ENA</th>\n",
       "      <th>All samples same case</th>\n",
       "      <th>Population</th>\n",
       "      <th>% callable</th>\n",
       "      <th>QC pass</th>\n",
       "      <th>Exclusion reason</th>\n",
       "      <th>Sample type</th>\n",
       "      <th>Sample was in Pf7</th>\n",
       "    </tr>\n",
       "  </thead>\n",
       "  <tbody>\n",
       "    <tr>\n",
       "      <th>0</th>\n",
       "      <td>FP0008-C</td>\n",
       "      <td>1147-PF-MR-CONWAY</td>\n",
       "      <td>Mauritania</td>\n",
       "      <td>Hodh el Gharbi</td>\n",
       "      <td>20.265149</td>\n",
       "      <td>-10.337093</td>\n",
       "      <td>16.565426</td>\n",
       "      <td>-9.832345</td>\n",
       "      <td>2014.0</td>\n",
       "      <td>ERR1081237</td>\n",
       "      <td>FP0008-C</td>\n",
       "      <td>AF-W</td>\n",
       "      <td>82.48</td>\n",
       "      <td>True</td>\n",
       "      <td>Analysis_set</td>\n",
       "      <td>gDNA</td>\n",
       "      <td>True</td>\n",
       "    </tr>\n",
       "    <tr>\n",
       "      <th>1</th>\n",
       "      <td>FP0009-C</td>\n",
       "      <td>1147-PF-MR-CONWAY</td>\n",
       "      <td>Mauritania</td>\n",
       "      <td>Hodh el Gharbi</td>\n",
       "      <td>20.265149</td>\n",
       "      <td>-10.337093</td>\n",
       "      <td>16.565426</td>\n",
       "      <td>-9.832345</td>\n",
       "      <td>2014.0</td>\n",
       "      <td>ERR1081238</td>\n",
       "      <td>FP0009-C</td>\n",
       "      <td>AF-W</td>\n",
       "      <td>88.95</td>\n",
       "      <td>True</td>\n",
       "      <td>Analysis_set</td>\n",
       "      <td>gDNA</td>\n",
       "      <td>True</td>\n",
       "    </tr>\n",
       "    <tr>\n",
       "      <th>2</th>\n",
       "      <td>FP0010-CW</td>\n",
       "      <td>1147-PF-MR-CONWAY</td>\n",
       "      <td>Mauritania</td>\n",
       "      <td>Hodh el Gharbi</td>\n",
       "      <td>20.265149</td>\n",
       "      <td>-10.337093</td>\n",
       "      <td>16.565426</td>\n",
       "      <td>-9.832345</td>\n",
       "      <td>2014.0</td>\n",
       "      <td>ERR2889621</td>\n",
       "      <td>FP0010-CW</td>\n",
       "      <td>AF-W</td>\n",
       "      <td>87.01</td>\n",
       "      <td>True</td>\n",
       "      <td>Analysis_set</td>\n",
       "      <td>sWGA</td>\n",
       "      <td>True</td>\n",
       "    </tr>\n",
       "    <tr>\n",
       "      <th>3</th>\n",
       "      <td>FP0011-CW</td>\n",
       "      <td>1147-PF-MR-CONWAY</td>\n",
       "      <td>Mauritania</td>\n",
       "      <td>Hodh el Gharbi</td>\n",
       "      <td>20.265149</td>\n",
       "      <td>-10.337093</td>\n",
       "      <td>16.565426</td>\n",
       "      <td>-9.832345</td>\n",
       "      <td>2014.0</td>\n",
       "      <td>ERR2889624</td>\n",
       "      <td>FP0011-CW</td>\n",
       "      <td>AF-W</td>\n",
       "      <td>86.95</td>\n",
       "      <td>True</td>\n",
       "      <td>Analysis_set</td>\n",
       "      <td>sWGA</td>\n",
       "      <td>True</td>\n",
       "    </tr>\n",
       "    <tr>\n",
       "      <th>4</th>\n",
       "      <td>FP0012-CW</td>\n",
       "      <td>1147-PF-MR-CONWAY</td>\n",
       "      <td>Mauritania</td>\n",
       "      <td>Hodh el Gharbi</td>\n",
       "      <td>20.265149</td>\n",
       "      <td>-10.337093</td>\n",
       "      <td>16.565426</td>\n",
       "      <td>-9.832345</td>\n",
       "      <td>2014.0</td>\n",
       "      <td>ERR2889627</td>\n",
       "      <td>FP0012-CW</td>\n",
       "      <td>AF-W</td>\n",
       "      <td>89.86</td>\n",
       "      <td>True</td>\n",
       "      <td>Analysis_set</td>\n",
       "      <td>sWGA</td>\n",
       "      <td>True</td>\n",
       "    </tr>\n",
       "  </tbody>\n",
       "</table>\n",
       "</div>\n",
       "    <div class=\"colab-df-buttons\">\n",
       "\n",
       "  <div class=\"colab-df-container\">\n",
       "    <button class=\"colab-df-convert\" onclick=\"convertToInteractive('df-4bc72881-0938-43a5-8ddb-360e7308b859')\"\n",
       "            title=\"Convert this dataframe to an interactive table.\"\n",
       "            style=\"display:none;\">\n",
       "\n",
       "  <svg xmlns=\"http://www.w3.org/2000/svg\" height=\"24px\" viewBox=\"0 -960 960 960\">\n",
       "    <path d=\"M120-120v-720h720v720H120Zm60-500h600v-160H180v160Zm220 220h160v-160H400v160Zm0 220h160v-160H400v160ZM180-400h160v-160H180v160Zm440 0h160v-160H620v160ZM180-180h160v-160H180v160Zm440 0h160v-160H620v160Z\"/>\n",
       "  </svg>\n",
       "    </button>\n",
       "\n",
       "  <style>\n",
       "    .colab-df-container {\n",
       "      display:flex;\n",
       "      gap: 12px;\n",
       "    }\n",
       "\n",
       "    .colab-df-convert {\n",
       "      background-color: #E8F0FE;\n",
       "      border: none;\n",
       "      border-radius: 50%;\n",
       "      cursor: pointer;\n",
       "      display: none;\n",
       "      fill: #1967D2;\n",
       "      height: 32px;\n",
       "      padding: 0 0 0 0;\n",
       "      width: 32px;\n",
       "    }\n",
       "\n",
       "    .colab-df-convert:hover {\n",
       "      background-color: #E2EBFA;\n",
       "      box-shadow: 0px 1px 2px rgba(60, 64, 67, 0.3), 0px 1px 3px 1px rgba(60, 64, 67, 0.15);\n",
       "      fill: #174EA6;\n",
       "    }\n",
       "\n",
       "    .colab-df-buttons div {\n",
       "      margin-bottom: 4px;\n",
       "    }\n",
       "\n",
       "    [theme=dark] .colab-df-convert {\n",
       "      background-color: #3B4455;\n",
       "      fill: #D2E3FC;\n",
       "    }\n",
       "\n",
       "    [theme=dark] .colab-df-convert:hover {\n",
       "      background-color: #434B5C;\n",
       "      box-shadow: 0px 1px 3px 1px rgba(0, 0, 0, 0.15);\n",
       "      filter: drop-shadow(0px 1px 2px rgba(0, 0, 0, 0.3));\n",
       "      fill: #FFFFFF;\n",
       "    }\n",
       "  </style>\n",
       "\n",
       "    <script>\n",
       "      const buttonEl =\n",
       "        document.querySelector('#df-4bc72881-0938-43a5-8ddb-360e7308b859 button.colab-df-convert');\n",
       "      buttonEl.style.display =\n",
       "        google.colab.kernel.accessAllowed ? 'block' : 'none';\n",
       "\n",
       "      async function convertToInteractive(key) {\n",
       "        const element = document.querySelector('#df-4bc72881-0938-43a5-8ddb-360e7308b859');\n",
       "        const dataTable =\n",
       "          await google.colab.kernel.invokeFunction('convertToInteractive',\n",
       "                                                    [key], {});\n",
       "        if (!dataTable) return;\n",
       "\n",
       "        const docLinkHtml = 'Like what you see? Visit the ' +\n",
       "          '<a target=\"_blank\" href=https://colab.research.google.com/notebooks/data_table.ipynb>data table notebook</a>'\n",
       "          + ' to learn more about interactive tables.';\n",
       "        element.innerHTML = '';\n",
       "        dataTable['output_type'] = 'display_data';\n",
       "        await google.colab.output.renderOutput(dataTable, element);\n",
       "        const docLink = document.createElement('div');\n",
       "        docLink.innerHTML = docLinkHtml;\n",
       "        element.appendChild(docLink);\n",
       "      }\n",
       "    </script>\n",
       "  </div>\n",
       "\n",
       "\n",
       "<div id=\"df-1fed8d05-495b-4f85-aad7-b983cbcce3f1\">\n",
       "  <button class=\"colab-df-quickchart\" onclick=\"quickchart('df-1fed8d05-495b-4f85-aad7-b983cbcce3f1')\"\n",
       "            title=\"Suggest charts\"\n",
       "            style=\"display:none;\">\n",
       "\n",
       "<svg xmlns=\"http://www.w3.org/2000/svg\" height=\"24px\"viewBox=\"0 0 24 24\"\n",
       "     width=\"24px\">\n",
       "    <g>\n",
       "        <path d=\"M19 3H5c-1.1 0-2 .9-2 2v14c0 1.1.9 2 2 2h14c1.1 0 2-.9 2-2V5c0-1.1-.9-2-2-2zM9 17H7v-7h2v7zm4 0h-2V7h2v10zm4 0h-2v-4h2v4z\"/>\n",
       "    </g>\n",
       "</svg>\n",
       "  </button>\n",
       "\n",
       "<style>\n",
       "  .colab-df-quickchart {\n",
       "      --bg-color: #E8F0FE;\n",
       "      --fill-color: #1967D2;\n",
       "      --hover-bg-color: #E2EBFA;\n",
       "      --hover-fill-color: #174EA6;\n",
       "      --disabled-fill-color: #AAA;\n",
       "      --disabled-bg-color: #DDD;\n",
       "  }\n",
       "\n",
       "  [theme=dark] .colab-df-quickchart {\n",
       "      --bg-color: #3B4455;\n",
       "      --fill-color: #D2E3FC;\n",
       "      --hover-bg-color: #434B5C;\n",
       "      --hover-fill-color: #FFFFFF;\n",
       "      --disabled-bg-color: #3B4455;\n",
       "      --disabled-fill-color: #666;\n",
       "  }\n",
       "\n",
       "  .colab-df-quickchart {\n",
       "    background-color: var(--bg-color);\n",
       "    border: none;\n",
       "    border-radius: 50%;\n",
       "    cursor: pointer;\n",
       "    display: none;\n",
       "    fill: var(--fill-color);\n",
       "    height: 32px;\n",
       "    padding: 0;\n",
       "    width: 32px;\n",
       "  }\n",
       "\n",
       "  .colab-df-quickchart:hover {\n",
       "    background-color: var(--hover-bg-color);\n",
       "    box-shadow: 0 1px 2px rgba(60, 64, 67, 0.3), 0 1px 3px 1px rgba(60, 64, 67, 0.15);\n",
       "    fill: var(--button-hover-fill-color);\n",
       "  }\n",
       "\n",
       "  .colab-df-quickchart-complete:disabled,\n",
       "  .colab-df-quickchart-complete:disabled:hover {\n",
       "    background-color: var(--disabled-bg-color);\n",
       "    fill: var(--disabled-fill-color);\n",
       "    box-shadow: none;\n",
       "  }\n",
       "\n",
       "  .colab-df-spinner {\n",
       "    border: 2px solid var(--fill-color);\n",
       "    border-color: transparent;\n",
       "    border-bottom-color: var(--fill-color);\n",
       "    animation:\n",
       "      spin 1s steps(1) infinite;\n",
       "  }\n",
       "\n",
       "  @keyframes spin {\n",
       "    0% {\n",
       "      border-color: transparent;\n",
       "      border-bottom-color: var(--fill-color);\n",
       "      border-left-color: var(--fill-color);\n",
       "    }\n",
       "    20% {\n",
       "      border-color: transparent;\n",
       "      border-left-color: var(--fill-color);\n",
       "      border-top-color: var(--fill-color);\n",
       "    }\n",
       "    30% {\n",
       "      border-color: transparent;\n",
       "      border-left-color: var(--fill-color);\n",
       "      border-top-color: var(--fill-color);\n",
       "      border-right-color: var(--fill-color);\n",
       "    }\n",
       "    40% {\n",
       "      border-color: transparent;\n",
       "      border-right-color: var(--fill-color);\n",
       "      border-top-color: var(--fill-color);\n",
       "    }\n",
       "    60% {\n",
       "      border-color: transparent;\n",
       "      border-right-color: var(--fill-color);\n",
       "    }\n",
       "    80% {\n",
       "      border-color: transparent;\n",
       "      border-right-color: var(--fill-color);\n",
       "      border-bottom-color: var(--fill-color);\n",
       "    }\n",
       "    90% {\n",
       "      border-color: transparent;\n",
       "      border-bottom-color: var(--fill-color);\n",
       "    }\n",
       "  }\n",
       "</style>\n",
       "\n",
       "  <script>\n",
       "    async function quickchart(key) {\n",
       "      const quickchartButtonEl =\n",
       "        document.querySelector('#' + key + ' button');\n",
       "      quickchartButtonEl.disabled = true;  // To prevent multiple clicks.\n",
       "      quickchartButtonEl.classList.add('colab-df-spinner');\n",
       "      try {\n",
       "        const charts = await google.colab.kernel.invokeFunction(\n",
       "            'suggestCharts', [key], {});\n",
       "      } catch (error) {\n",
       "        console.error('Error during call to suggestCharts:', error);\n",
       "      }\n",
       "      quickchartButtonEl.classList.remove('colab-df-spinner');\n",
       "      quickchartButtonEl.classList.add('colab-df-quickchart-complete');\n",
       "    }\n",
       "    (() => {\n",
       "      let quickchartButtonEl =\n",
       "        document.querySelector('#df-1fed8d05-495b-4f85-aad7-b983cbcce3f1 button');\n",
       "      quickchartButtonEl.style.display =\n",
       "        google.colab.kernel.accessAllowed ? 'block' : 'none';\n",
       "    })();\n",
       "  </script>\n",
       "</div>\n",
       "\n",
       "    </div>\n",
       "  </div>\n"
      ],
      "text/plain": [
       "      Sample              Study     Country   Admin level 1  Country latitude  \\\n",
       "0   FP0008-C  1147-PF-MR-CONWAY  Mauritania  Hodh el Gharbi         20.265149   \n",
       "1   FP0009-C  1147-PF-MR-CONWAY  Mauritania  Hodh el Gharbi         20.265149   \n",
       "2  FP0010-CW  1147-PF-MR-CONWAY  Mauritania  Hodh el Gharbi         20.265149   \n",
       "3  FP0011-CW  1147-PF-MR-CONWAY  Mauritania  Hodh el Gharbi         20.265149   \n",
       "4  FP0012-CW  1147-PF-MR-CONWAY  Mauritania  Hodh el Gharbi         20.265149   \n",
       "\n",
       "   Country longitude  Admin level 1 latitude  Admin level 1 longitude    Year  \\\n",
       "0         -10.337093               16.565426                -9.832345  2014.0   \n",
       "1         -10.337093               16.565426                -9.832345  2014.0   \n",
       "2         -10.337093               16.565426                -9.832345  2014.0   \n",
       "3         -10.337093               16.565426                -9.832345  2014.0   \n",
       "4         -10.337093               16.565426                -9.832345  2014.0   \n",
       "\n",
       "          ENA All samples same case Population  % callable  QC pass  \\\n",
       "0  ERR1081237              FP0008-C       AF-W       82.48     True   \n",
       "1  ERR1081238              FP0009-C       AF-W       88.95     True   \n",
       "2  ERR2889621             FP0010-CW       AF-W       87.01     True   \n",
       "3  ERR2889624             FP0011-CW       AF-W       86.95     True   \n",
       "4  ERR2889627             FP0012-CW       AF-W       89.86     True   \n",
       "\n",
       "  Exclusion reason Sample type  Sample was in Pf7  \n",
       "0     Analysis_set        gDNA               True  \n",
       "1     Analysis_set        gDNA               True  \n",
       "2     Analysis_set        sWGA               True  \n",
       "3     Analysis_set        sWGA               True  \n",
       "4     Analysis_set        sWGA               True  "
      ]
     },
     "execution_count": 4,
     "metadata": {},
     "output_type": "execute_result"
    }
   ],
   "source": [
    "# Load Pf8 data\n",
    "release_data = malariagen_data.Pf8()\n",
    "sample_metadata = release_data.sample_metadata()\n",
    "\n",
    "# View the first few lines of the metadata\n",
    "sample_metadata.head()"
   ]
  },
  {
   "cell_type": "markdown",
   "metadata": {
    "id": "9XvLNTExBOrO"
   },
   "source": [
    "# Basic summaries of data\n",
    "It is often useful to summarise the data by different variables. This gives a get a better sense of how the data is distributed, and is generally a good sense check to make sure the numbers are what we are expecting. Below are some simple summaries of the samples for three meta-variables included in the dataset:\n",
    "\n",
    "1) Population\n",
    "2) Year\n",
    "3) Study"
   ]
  },
  {
   "cell_type": "code",
   "execution_count": 5,
   "metadata": {
    "colab": {
     "base_uri": "https://localhost:8080/",
     "height": 460
    },
    "id": "OvCMrCv0Vgza",
    "outputId": "f876391f-6801-41e4-d1af-30e5687cd7a4"
   },
   "outputs": [
    {
     "data": {
      "text/html": [
       "<div>\n",
       "<style scoped>\n",
       "    .dataframe tbody tr th:only-of-type {\n",
       "        vertical-align: middle;\n",
       "    }\n",
       "\n",
       "    .dataframe tbody tr th {\n",
       "        vertical-align: top;\n",
       "    }\n",
       "\n",
       "    .dataframe thead th {\n",
       "        text-align: right;\n",
       "    }\n",
       "</style>\n",
       "<table border=\"1\" class=\"dataframe\">\n",
       "  <thead>\n",
       "    <tr style=\"text-align: right;\">\n",
       "      <th></th>\n",
       "      <th>count</th>\n",
       "    </tr>\n",
       "    <tr>\n",
       "      <th>Population</th>\n",
       "      <th></th>\n",
       "    </tr>\n",
       "  </thead>\n",
       "  <tbody>\n",
       "    <tr>\n",
       "      <th>AF-W</th>\n",
       "      <td>13656</td>\n",
       "    </tr>\n",
       "    <tr>\n",
       "      <th>AS-SE-E</th>\n",
       "      <td>7139</td>\n",
       "    </tr>\n",
       "    <tr>\n",
       "      <th>AF-E</th>\n",
       "      <td>5276</td>\n",
       "    </tr>\n",
       "    <tr>\n",
       "      <th>AS-SE-W</th>\n",
       "      <td>2262</td>\n",
       "    </tr>\n",
       "    <tr>\n",
       "      <th>AS-S-FE</th>\n",
       "      <td>1730</td>\n",
       "    </tr>\n",
       "    <tr>\n",
       "      <th>AF-C</th>\n",
       "      <td>1549</td>\n",
       "    </tr>\n",
       "    <tr>\n",
       "      <th>AF-NE</th>\n",
       "      <td>470</td>\n",
       "    </tr>\n",
       "    <tr>\n",
       "      <th>OC-NG</th>\n",
       "      <td>384</td>\n",
       "    </tr>\n",
       "    <tr>\n",
       "      <th>NaN</th>\n",
       "      <td>330</td>\n",
       "    </tr>\n",
       "    <tr>\n",
       "      <th>SA</th>\n",
       "      <td>283</td>\n",
       "    </tr>\n",
       "    <tr>\n",
       "      <th>AS-S-E</th>\n",
       "      <td>246</td>\n",
       "    </tr>\n",
       "  </tbody>\n",
       "</table>\n",
       "</div><br><label><b>dtype:</b> int64</label>"
      ],
      "text/plain": [
       "Population\n",
       "AF-W       13656\n",
       "AS-SE-E     7139\n",
       "AF-E        5276\n",
       "AS-SE-W     2262\n",
       "AS-S-FE     1730\n",
       "AF-C        1549\n",
       "AF-NE        470\n",
       "OC-NG        384\n",
       "NaN          330\n",
       "SA           283\n",
       "AS-S-E       246\n",
       "Name: count, dtype: int64"
      ]
     },
     "execution_count": 5,
     "metadata": {},
     "output_type": "execute_result"
    }
   ],
   "source": [
    "# Estimate the counts of samples from each population\n",
    "sample_metadata['Population'].value_counts(dropna=False)"
   ]
  },
  {
   "cell_type": "code",
   "execution_count": 6,
   "metadata": {
    "colab": {
     "base_uri": "https://localhost:8080/",
     "height": 334
    },
    "id": "UY__vyQbZLCV",
    "outputId": "6a538f2f-15fd-4d43-d31f-6cf0de8f8924"
   },
   "outputs": [
    {
     "data": {
      "text/html": [
       "<div>\n",
       "<style scoped>\n",
       "    .dataframe tbody tr th:only-of-type {\n",
       "        vertical-align: middle;\n",
       "    }\n",
       "\n",
       "    .dataframe tbody tr th {\n",
       "        vertical-align: top;\n",
       "    }\n",
       "\n",
       "    .dataframe thead th {\n",
       "        text-align: right;\n",
       "    }\n",
       "</style>\n",
       "<table border=\"1\" class=\"dataframe\">\n",
       "  <thead>\n",
       "    <tr style=\"text-align: right;\">\n",
       "      <th></th>\n",
       "      <th>Year</th>\n",
       "    </tr>\n",
       "  </thead>\n",
       "  <tbody>\n",
       "    <tr>\n",
       "      <th>count</th>\n",
       "      <td>32995.000000</td>\n",
       "    </tr>\n",
       "    <tr>\n",
       "      <th>mean</th>\n",
       "      <td>2014.979057</td>\n",
       "    </tr>\n",
       "    <tr>\n",
       "      <th>std</th>\n",
       "      <td>5.250368</td>\n",
       "    </tr>\n",
       "    <tr>\n",
       "      <th>min</th>\n",
       "      <td>1966.000000</td>\n",
       "    </tr>\n",
       "    <tr>\n",
       "      <th>25%</th>\n",
       "      <td>2013.000000</td>\n",
       "    </tr>\n",
       "    <tr>\n",
       "      <th>50%</th>\n",
       "      <td>2016.000000</td>\n",
       "    </tr>\n",
       "    <tr>\n",
       "      <th>75%</th>\n",
       "      <td>2018.000000</td>\n",
       "    </tr>\n",
       "    <tr>\n",
       "      <th>max</th>\n",
       "      <td>2022.000000</td>\n",
       "    </tr>\n",
       "  </tbody>\n",
       "</table>\n",
       "</div><br><label><b>dtype:</b> float64</label>"
      ],
      "text/plain": [
       "count    32995.000000\n",
       "mean      2014.979057\n",
       "std          5.250368\n",
       "min       1966.000000\n",
       "25%       2013.000000\n",
       "50%       2016.000000\n",
       "75%       2018.000000\n",
       "max       2022.000000\n",
       "Name: Year, dtype: float64"
      ]
     },
     "execution_count": 6,
     "metadata": {},
     "output_type": "execute_result"
    }
   ],
   "source": [
    "# Then we calculate the mean number of samples per year of the study, there was an average of ~2015 samples collected per year\n",
    "pd.to_numeric(sample_metadata['Year'], errors='coerce').describe()"
   ]
  },
  {
   "cell_type": "code",
   "execution_count": 7,
   "metadata": {
    "colab": {
     "base_uri": "https://localhost:8080/",
     "height": 178
    },
    "id": "hq6pgOhFZDnf",
    "outputId": "052ff3dd-f0e9-42c8-b47e-9659df46c5f9"
   },
   "outputs": [
    {
     "data": {
      "text/html": [
       "<div>\n",
       "<style scoped>\n",
       "    .dataframe tbody tr th:only-of-type {\n",
       "        vertical-align: middle;\n",
       "    }\n",
       "\n",
       "    .dataframe tbody tr th {\n",
       "        vertical-align: top;\n",
       "    }\n",
       "\n",
       "    .dataframe thead th {\n",
       "        text-align: right;\n",
       "    }\n",
       "</style>\n",
       "<table border=\"1\" class=\"dataframe\">\n",
       "  <thead>\n",
       "    <tr style=\"text-align: right;\">\n",
       "      <th></th>\n",
       "      <th>count</th>\n",
       "    </tr>\n",
       "    <tr>\n",
       "      <th>Sample was in Pf7</th>\n",
       "      <th></th>\n",
       "    </tr>\n",
       "  </thead>\n",
       "  <tbody>\n",
       "    <tr>\n",
       "      <th>True</th>\n",
       "      <td>20864</td>\n",
       "    </tr>\n",
       "    <tr>\n",
       "      <th>False</th>\n",
       "      <td>12461</td>\n",
       "    </tr>\n",
       "  </tbody>\n",
       "</table>\n",
       "</div><br><label><b>dtype:</b> int64</label>"
      ],
      "text/plain": [
       "Sample was in Pf7\n",
       "True     20864\n",
       "False    12461\n",
       "Name: count, dtype: int64"
      ]
     },
     "execution_count": 7,
     "metadata": {},
     "output_type": "execute_result"
    }
   ],
   "source": [
    "# Then we calculate the number of samples, based on whether they were included in the Pf7 release.\n",
    "# Here 'False' means these samples were made available as part of the new Pf8 dataset (a total of 12,461).\n",
    "sample_metadata['Sample was in Pf7'].value_counts(dropna=False)"
   ]
  },
  {
   "cell_type": "markdown",
   "metadata": {
    "id": "bi6DlibFYICp"
   },
   "source": [
    "## Plotting sample collection date over time\n",
    "\n",
    "The next step is to visualise when the samples were collected over time.\n",
    "\n",
    "Here, we generate a histogram that shows when the samples were collected, separated into those included in the Pf8 data release, versus those included in the previous release (Pf7). In this plot, the x axis shows the year of sample collection, while the Y axis shows the count of samples collected. The blue bars show the samples which were included in the Pf7 dataset, while the red bars show the new samples included in the Pf8 release. The figure was generated using the matplotlib Python package, a introduction to which can be found here: https://matplotlib.org/stable/tutorials/pyplot.html.\n",
    "\n",
    "As shown on the plot, there were many new samples included in the Pf8 release (12,461), which were collected mostly between 2018-2021."
   ]
  },
  {
   "cell_type": "code",
   "execution_count": 9,
   "metadata": {
    "colab": {
     "base_uri": "https://localhost:8080/",
     "height": 406
    },
    "id": "fZVvWONTJBTZ",
    "outputId": "ff9b2f2f-2028-4117-d43d-9742de72d9ed"
   },
   "outputs": [
    {
     "data": {
      "image/png": "[encoded data removed]",
      "text/plain": [
       "<Figure size 800x400 with 1 Axes>"
      ]
     },
     "metadata": {},
     "output_type": "display_data"
    }
   ],
   "source": [
    "# Convert 'Year' to numeric and filter data\n",
    "years = pd.to_numeric(sample_metadata['Year'], errors='coerce')\n",
    "# Set the min and max year to determine the range of years to include in the plot\n",
    "min_year = pd.to_numeric(sample_metadata['Year'], errors='coerce').min()\n",
    "max_year = pd.to_numeric(sample_metadata['Year'], errors='coerce').max()\n",
    "\n",
    "# Define bins for each year\n",
    "bins = np.arange(min_year, max_year + 2)\n",
    "\n",
    "# Create grouped data for stacking\n",
    "pf7_samples = pd.to_numeric(sample_metadata.loc[sample_metadata['Sample was in Pf7'], 'Year'], errors='coerce')\n",
    "pf8_samples = pd.to_numeric(sample_metadata.loc[~sample_metadata['Sample was in Pf7'], 'Year'], errors='coerce')\n",
    "\n",
    "# Set up figure size and style\n",
    "fig, ax = plt.subplots(figsize=(8, 4))\n",
    "\n",
    "# Plot stacked histogram (stacked bar plot)\n",
    "ax.hist(\n",
    "    [pf7_samples, pf8_samples],  # Data for both groups\n",
    "    bins=bins,\n",
    "    stacked=True,  # Stacked bars\n",
    "    color=['#67a9cf', '#ef8a62'],  # Colors for Pf7 and Pf8\n",
    "    edgecolor='black',  # Border for better visibility\n",
    "    label=['Pf7', 'New to Pf8']\n",
    ")\n",
    "\n",
    "# Include reference lines for the y-axis only\n",
    "ax.grid(True, axis='y', linestyle='--', alpha=0.6)\n",
    "ax.set_xticks(np.arange(1965, 2025, 5))\n",
    "\n",
    "# Set axis labels and title\n",
    "ax.set_xlabel('Year')\n",
    "ax.set_ylabel('Number of samples')\n",
    "\n",
    "# Set axis legend\n",
    "ax.legend(loc='upper left')\n",
    "\n",
    "# Minimize padding around the plot\n",
    "fig.tight_layout()\n",
    "\n",
    "plt.show()\n",
    "\n"
   ]
  },
  {
   "cell_type": "markdown",
   "metadata": {
    "id": "lpM2bYJLa_Cy"
   },
   "source": [
    "### Save the figure:\n"
   ]
  },
  {
   "cell_type": "code",
   "execution_count": null,
   "metadata": {
    "colab": {
     "base_uri": "https://localhost:8080/"
    },
    "id": "Jlez6XXz6OCh",
    "outputId": "add892ff-e50e-419e-f664-b185fea58ab9"
   },
   "outputs": [
    {
     "name": "stdout",
     "output_type": "stream",
     "text": [
      "Mounted at /content/drive\n"
     ]
    }
   ],
   "source": [
    "# Mount Google Drive\n",
    "drive.mount('/content/drive')"
   ]
  },
  {
   "cell_type": "code",
   "execution_count": null,
   "metadata": {
    "id": "FjFPNprA6ZW8"
   },
   "outputs": [],
   "source": [
    "# Save samples over time plot\n",
    "# This will send the file to your Google Drive, where you can download it from if needed\n",
    "# Change the file path if you wish to send the file to a specific location\n",
    "# Change the file name if you wish to call it something else\n",
    "file_path = '/content/drive/My Drive/'\n",
    "file_name = 'Pf8_sample_collections_over_time'\n",
    "\n",
    "# We save as both .png and .PDF files\n",
    "fig.savefig(f'{file_path}{file_name}.png', dpi=250)\n",
    "fig.savefig(f'{file_path}{file_name}.pdf')"
   ]
  },
  {
   "cell_type": "markdown",
   "metadata": {
    "id": "mCnKJkKaDNNC"
   },
   "source": [
    "## Conclusions\n",
    "\n",
    "In summary, in this notebook, we accessed the MalariaGEN data available on the cloud for the latest *Plasmodium falciparum* data release (Pf8). After doing some basic summaries of the data, we created histograms of the samples per year, broken down by whether or not the sample was in Pf7 compared to Pf8."
   ]
  },
  {
   "cell_type": "markdown",
   "metadata": {
    "id": "kIjWsL6gp_Sp"
   },
   "source": []
  }
 ],
 "metadata": {
  "colab": {
   "provenance": []
  },
  "kernelspec": {
   "display_name": "Python 3",
   "language": "python",
   "name": "python3"
  },
  "language_info": {
   "codemirror_mode": {
    "name": "ipython",
    "version": 3
   },
   "file_extension": ".py",
   "mimetype": "text/x-python",
   "name": "python",
   "nbconvert_exporter": "python",
   "pygments_lexer": "ipython3",
   "version": "3.11.10"
  }
 },
 "nbformat": 4,
 "nbformat_minor": 4
}
