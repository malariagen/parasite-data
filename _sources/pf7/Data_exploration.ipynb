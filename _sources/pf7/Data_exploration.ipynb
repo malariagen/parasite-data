{
 "cells": [
  {
   "cell_type": "markdown",
   "id": "30e68f72",
   "metadata": {},
   "source": [
    "# Pf7 Data Access "
   ]
  },
  {
   "cell_type": "markdown",
   "id": "6cb09ffb",
   "metadata": {},
   "source": [
    "This page provides information about how to access data from [Plasmodium falciparum version 7 (Pf7)](https://www.malariagen.net/resource/34)  project via Google Cloud. This includes sample metadata and single nucleotide polymorphism (SNP) calls. This release spans multiple [MalariaGEN](https://www.malariagen.net/) projects including [Pf community project](https://www.malariagen.net/parasite/p-falciparum-community-project), [GenRe-Mekong](https://www.malariagen.net/parasite/genre-mekong) and [SpotMalaria](https://www.malariagen.net/parasite/spotmalaria), and a collaboration between xx studies spread around the globe. \n",
    "\n",
    "This notebook illustrates how to read data directly from the cloud, **without having to first download any data locally**. This notebook can be run from any computer, but will work best when run from a compute node within Google Cloud, because it will be physically closer to the data and so data transfer is faster. For example, this notebook can be run via MyBinder or Google Colab which are free interactive computing service running in the cloud.\n",
    "\n",
    "To launch this notebook in the cloud and run it for yourself, click the launch icon () at the top of the page and select one of the cloud computing services available.\n",
    "\n",
    "For a quick overview on the spatial and geographical distribution of the samples available, please visit our [Pf7 web-app](https://www.malariagen.net/apps/pf7/). "
   ]
  },
  {
   "cell_type": "markdown",
   "id": "990100a0",
   "metadata": {},
   "source": [
    "## Setup"
   ]
  },
  {
   "cell_type": "markdown",
   "id": "9e259b8b",
   "metadata": {},
   "source": [
    "Running this notebook requires some Python packages to be installed. These packages can be installed via pip or conda. E.g.:"
   ]
  },
  {
   "cell_type": "code",
   "execution_count": null,
   "id": "a16f7861",
   "metadata": {},
   "outputs": [],
   "source": [
    "# The pf7 module is not yet included in the malariagen package. When it is the below should work.\n",
    "# !pip install -q malariagen_data"
   ]
  },
  {
   "cell_type": "markdown",
   "id": "12ce4f73",
   "metadata": {},
   "source": [
    "To make accessing these data more convenient, we’ve created the malariagen_data Python package, which is available from PyPI. This is experimental so please let us know if you find any bugs or have any suggestions.\n",
    "\n",
    "Now import the packages we’ll need to use here."
   ]
  },
  {
   "cell_type": "code",
   "execution_count": 1,
   "id": "8f34f704",
   "metadata": {},
   "outputs": [],
   "source": [
    "from malariagen_data.pf7 import * \n",
    "# import malariagen_data (above line will eventually be substituted for this)\n",
    "\n",
    "import numpy as np\n",
    "import dask\n",
    "import dask.array as da\n",
    "from dask.diagnostics.progress import ProgressBar\n",
    "# silence some warnings\n",
    "dask.config.set(**{'array.slicing.split_large_chunks': False})\n",
    "import allel"
   ]
  },
  {
   "cell_type": "markdown",
   "id": "7f191201",
   "metadata": {},
   "source": [
    "To access the pf7 data stored on google cloud use the following code:"
   ]
  },
  {
   "cell_type": "code",
   "execution_count": 2,
   "id": "563938d1",
   "metadata": {},
   "outputs": [],
   "source": [
    "pf7 = Pf7(\"gs://pf7_staging/\")"
   ]
  },
  {
   "cell_type": "markdown",
   "id": "fc353141",
   "metadata": {},
   "source": [
    "## Metadata"
   ]
  },
  {
   "cell_type": "markdown",
   "id": "2f83d559",
   "metadata": {},
   "source": [
    "Data on the samples that were sequenced as part of this resource are available. It includes the time and place of collection, quality metrics, and accesion numbers.\n",
    "\n",
    "To see all the information available, load sample metadata into a pandas dataframe:"
   ]
  },
  {
   "cell_type": "code",
   "execution_count": 3,
   "id": "364715b2",
   "metadata": {},
   "outputs": [
    {
     "data": {
      "text/html": [
       "<div>\n",
       "<style scoped>\n",
       "    .dataframe tbody tr th:only-of-type {\n",
       "        vertical-align: middle;\n",
       "    }\n",
       "\n",
       "    .dataframe tbody tr th {\n",
       "        vertical-align: top;\n",
       "    }\n",
       "\n",
       "    .dataframe thead th {\n",
       "        text-align: right;\n",
       "    }\n",
       "</style>\n",
       "<table border=\"1\" class=\"dataframe\">\n",
       "  <thead>\n",
       "    <tr style=\"text-align: right;\">\n",
       "      <th></th>\n",
       "      <th>Sample</th>\n",
       "      <th>Study</th>\n",
       "      <th>Country</th>\n",
       "      <th>Admin level 1</th>\n",
       "      <th>Country latitude</th>\n",
       "      <th>Country longitude</th>\n",
       "      <th>Admin level 1 latitude</th>\n",
       "      <th>Admin level 1 longitude</th>\n",
       "      <th>Year</th>\n",
       "      <th>ENA</th>\n",
       "      <th>All samples same case</th>\n",
       "      <th>Population</th>\n",
       "      <th>% callable</th>\n",
       "      <th>QC pass</th>\n",
       "      <th>Exclusion reason</th>\n",
       "      <th>Sample type</th>\n",
       "      <th>Sample was in Pf6</th>\n",
       "    </tr>\n",
       "  </thead>\n",
       "  <tbody>\n",
       "    <tr>\n",
       "      <th>0</th>\n",
       "      <td>FP0008-C</td>\n",
       "      <td>1147-PF-MR-CONWAY</td>\n",
       "      <td>Mauritania</td>\n",
       "      <td>Hodh el Gharbi</td>\n",
       "      <td>20.265149</td>\n",
       "      <td>-10.337093</td>\n",
       "      <td>16.565426</td>\n",
       "      <td>-9.832345</td>\n",
       "      <td>2014.0</td>\n",
       "      <td>ERR1081237</td>\n",
       "      <td>FP0008-C</td>\n",
       "      <td>AF-W</td>\n",
       "      <td>82.16</td>\n",
       "      <td>True</td>\n",
       "      <td>Analysis_set</td>\n",
       "      <td>gDNA</td>\n",
       "      <td>True</td>\n",
       "    </tr>\n",
       "    <tr>\n",
       "      <th>1</th>\n",
       "      <td>FP0009-C</td>\n",
       "      <td>1147-PF-MR-CONWAY</td>\n",
       "      <td>Mauritania</td>\n",
       "      <td>Hodh el Gharbi</td>\n",
       "      <td>20.265149</td>\n",
       "      <td>-10.337093</td>\n",
       "      <td>16.565426</td>\n",
       "      <td>-9.832345</td>\n",
       "      <td>2014.0</td>\n",
       "      <td>ERR1081238</td>\n",
       "      <td>FP0009-C</td>\n",
       "      <td>AF-W</td>\n",
       "      <td>88.85</td>\n",
       "      <td>True</td>\n",
       "      <td>Analysis_set</td>\n",
       "      <td>gDNA</td>\n",
       "      <td>True</td>\n",
       "    </tr>\n",
       "    <tr>\n",
       "      <th>2</th>\n",
       "      <td>FP0010-CW</td>\n",
       "      <td>1147-PF-MR-CONWAY</td>\n",
       "      <td>Mauritania</td>\n",
       "      <td>Hodh el Gharbi</td>\n",
       "      <td>20.265149</td>\n",
       "      <td>-10.337093</td>\n",
       "      <td>16.565426</td>\n",
       "      <td>-9.832345</td>\n",
       "      <td>2014.0</td>\n",
       "      <td>ERR2889621</td>\n",
       "      <td>FP0010-CW</td>\n",
       "      <td>AF-W</td>\n",
       "      <td>86.46</td>\n",
       "      <td>True</td>\n",
       "      <td>Analysis_set</td>\n",
       "      <td>sWGA</td>\n",
       "      <td>False</td>\n",
       "    </tr>\n",
       "    <tr>\n",
       "      <th>3</th>\n",
       "      <td>FP0011-CW</td>\n",
       "      <td>1147-PF-MR-CONWAY</td>\n",
       "      <td>Mauritania</td>\n",
       "      <td>Hodh el Gharbi</td>\n",
       "      <td>20.265149</td>\n",
       "      <td>-10.337093</td>\n",
       "      <td>16.565426</td>\n",
       "      <td>-9.832345</td>\n",
       "      <td>2014.0</td>\n",
       "      <td>ERR2889624</td>\n",
       "      <td>FP0011-CW</td>\n",
       "      <td>AF-W</td>\n",
       "      <td>86.35</td>\n",
       "      <td>True</td>\n",
       "      <td>Analysis_set</td>\n",
       "      <td>sWGA</td>\n",
       "      <td>False</td>\n",
       "    </tr>\n",
       "    <tr>\n",
       "      <th>4</th>\n",
       "      <td>FP0012-CW</td>\n",
       "      <td>1147-PF-MR-CONWAY</td>\n",
       "      <td>Mauritania</td>\n",
       "      <td>Hodh el Gharbi</td>\n",
       "      <td>20.265149</td>\n",
       "      <td>-10.337093</td>\n",
       "      <td>16.565426</td>\n",
       "      <td>-9.832345</td>\n",
       "      <td>2014.0</td>\n",
       "      <td>ERR2889627</td>\n",
       "      <td>FP0012-CW</td>\n",
       "      <td>AF-W</td>\n",
       "      <td>89.74</td>\n",
       "      <td>True</td>\n",
       "      <td>Analysis_set</td>\n",
       "      <td>sWGA</td>\n",
       "      <td>False</td>\n",
       "    </tr>\n",
       "  </tbody>\n",
       "</table>\n",
       "</div>"
      ],
      "text/plain": [
       "      Sample              Study     Country   Admin level 1  Country latitude  \\\n",
       "0   FP0008-C  1147-PF-MR-CONWAY  Mauritania  Hodh el Gharbi         20.265149   \n",
       "1   FP0009-C  1147-PF-MR-CONWAY  Mauritania  Hodh el Gharbi         20.265149   \n",
       "2  FP0010-CW  1147-PF-MR-CONWAY  Mauritania  Hodh el Gharbi         20.265149   \n",
       "3  FP0011-CW  1147-PF-MR-CONWAY  Mauritania  Hodh el Gharbi         20.265149   \n",
       "4  FP0012-CW  1147-PF-MR-CONWAY  Mauritania  Hodh el Gharbi         20.265149   \n",
       "\n",
       "   Country longitude  Admin level 1 latitude  Admin level 1 longitude    Year  \\\n",
       "0         -10.337093               16.565426                -9.832345  2014.0   \n",
       "1         -10.337093               16.565426                -9.832345  2014.0   \n",
       "2         -10.337093               16.565426                -9.832345  2014.0   \n",
       "3         -10.337093               16.565426                -9.832345  2014.0   \n",
       "4         -10.337093               16.565426                -9.832345  2014.0   \n",
       "\n",
       "          ENA All samples same case Population  % callable  QC pass  \\\n",
       "0  ERR1081237              FP0008-C       AF-W       82.16     True   \n",
       "1  ERR1081238              FP0009-C       AF-W       88.85     True   \n",
       "2  ERR2889621             FP0010-CW       AF-W       86.46     True   \n",
       "3  ERR2889624             FP0011-CW       AF-W       86.35     True   \n",
       "4  ERR2889627             FP0012-CW       AF-W       89.74     True   \n",
       "\n",
       "  Exclusion reason Sample type  Sample was in Pf6  \n",
       "0     Analysis_set        gDNA               True  \n",
       "1     Analysis_set        gDNA               True  \n",
       "2     Analysis_set        sWGA              False  \n",
       "3     Analysis_set        sWGA              False  \n",
       "4     Analysis_set        sWGA              False  "
      ]
     },
     "execution_count": 3,
     "metadata": {},
     "output_type": "execute_result"
    }
   ],
   "source": [
    "df_pf7 = pf7.sample_metadata()\n",
    "\n",
    "df_pf7.head()"
   ]
  },
  {
   "cell_type": "code",
   "execution_count": 4,
   "id": "d8d5d7d6",
   "metadata": {},
   "outputs": [
    {
     "name": "stdout",
     "output_type": "stream",
     "text": [
      "The data set has 20864 samples and 17 fields\n"
     ]
    }
   ],
   "source": [
    "print(\"The data set has {} samples and {} fields\".format(df_pf7.shape[0],df_pf7.shape[1]))"
   ]
  },
  {
   "cell_type": "markdown",
   "id": "5310ed5d",
   "metadata": {},
   "source": [
    "We can explore each of the fields: \n",
    "\n",
    "- The <font color='purple'>Sample</font> column gives the unique sample identifier used throughout all Pf7 analyses.\n",
    "\n",
    "\n",
    "- The <font color='purple'>Study</font> refers to the partner study which collected the sample.\n",
    "\n",
    "\n",
    "- The <font color='purple'>Country</font> & <font color='purple'>Admin level 1</font> describe the location where the sample was collected from. \n",
    "\n",
    "\n",
    "- The <font color='purple'>Country latitude</font>, <font color='purple'>Country longitude</font>, <font color='purple'>Admin level 1 latitude</font> and <font color='purple'>Admin 1 longitude</font> contain the GADM coordinates for each country & administrative level 1.\n",
    "\n",
    "\n",
    "- The <font color='purple'>Year</font> column gives the time of sample collection.\n",
    "\n",
    "\n",
    "- The <font color='purple'>ENA</font> column gives the run accession(s) for the sequencing read data for each sample.\n",
    "\n",
    "\n",
    "- The <font color='purple'>All samples same case</font> column identifies samples set collected from the same individual. \n",
    "    \n",
    "    \n",
    "- The <font color='purple'>Population</font> column gives the population to which the sample has been assigned to, based on the degree of genetic similarity to other samples. The possible values are: Africa-Central (AF-C), Africa - East (AF-E), Africa - Northeast (AF-NE), Africa - West (AF-W), Asia - South Asia - East (AS-SA-E), Asia - South Asia - West (AS-SA-W), Asia - Southeast Asia - East (AS-SEA-E), Asia - Southeast Asia - West (AS-SEA-W), Oceania - New Guinea (OC-NG), South America (SA). \n",
    "\n",
    "\n",
    "- The <font color='purple'>% callable</font> column refers to the %  of the genome with coverage of at least 5 reads and less than 10% of reads with mapping quality 0. \n",
    " \n",
    " \n",
    "- The <font color='purple'>QC pass</font> column defines whether the sample passed (True) or failed (False) QC. \n",
    "    \n",
    "    \n",
    "- The <font color='purple'>Exclusion reason</font> describes the reason why the particular sample was excluded from the main analysis.\n",
    "    \n",
    "    \n",
    "- The <font color='purple'>Sample type</font> column gives details on the sequencing method used on the particular sample  (gDNA, sWGA, MDA).\n",
    "    \n",
    "    \n",
    "- The <font color='purple'>Sample was in Pf6</font> column defines whether the sample was included in the previous version of the data release (Pf6) or if it is new to Pf7."
   ]
  },
  {
   "cell_type": "markdown",
   "id": "86c483b1",
   "metadata": {},
   "source": [
    "The python package [Pandas](https://pandas.pydata.org/) can be used to explore and query the sample metadata in different ways. For example, here is a summary of the numbers of samples grouped by the country they were collected in:"
   ]
  },
  {
   "cell_type": "code",
   "execution_count": 5,
   "id": "dfa30942",
   "metadata": {},
   "outputs": [
    {
     "data": {
      "text/plain": [
       "Country\n",
       "Bangladesh                          1661\n",
       "Benin                                334\n",
       "Burkina Faso                          58\n",
       "Cambodia                            1726\n",
       "Cameroon                             295\n",
       "Colombia                             164\n",
       "Côte d'Ivoire                         71\n",
       "Democratic Republic of the Congo     573\n",
       "Ethiopia                              34\n",
       "Gabon                                 59\n",
       "Gambia                              1247\n",
       "Ghana                               4150\n",
       "Guinea                               199\n",
       "India                                318\n",
       "Indonesia                            135\n",
       "Kenya                                732\n",
       "Laos                                1052\n",
       "Madagascar                            25\n",
       "Malawi                               371\n",
       "Mali                                1804\n",
       "Mauritania                           104\n",
       "Mozambique                            92\n",
       "Myanmar                             1261\n",
       "Nigeria                              146\n",
       "Papua New Guinea                     251\n",
       "Peru                                  21\n",
       "Senegal                              155\n",
       "Sudan                                203\n",
       "Tanzania                             697\n",
       "Thailand                            1107\n",
       "Uganda                                17\n",
       "Venezuela                              3\n",
       "Vietnam                             1734\n",
       "dtype: int64"
      ]
     },
     "execution_count": 5,
     "metadata": {},
     "output_type": "execute_result"
    }
   ],
   "source": [
    "df_pf7.groupby(\"Country\").size()"
   ]
  },
  {
   "cell_type": "markdown",
   "id": "834adc23",
   "metadata": {},
   "source": [
    "## SNP sites and alleles (zarr)"
   ]
  },
  {
   "cell_type": "markdown",
   "id": "cf503b51",
   "metadata": {},
   "source": [
    "These files contain details of 10,145,661 discovered variant genome positions. These variants were discovered amongst all samples from the release.\n",
    "\n",
    "4,397,801 of these variant positions are SNPs, with the remainder being either short insertion/deletions (indels), or a combination of SNPs and indels. \n",
    "\n",
    "Data on the set of genomic positions and alleles can be accessed as dask arrays as follows:"
   ]
  },
  {
   "cell_type": "code",
   "execution_count": 6,
   "id": "cc970dec",
   "metadata": {},
   "outputs": [],
   "source": [
    "chrom,pos = pf7.variants()"
   ]
  },
  {
   "cell_type": "code",
   "execution_count": 7,
   "id": "0fcb3085",
   "metadata": {},
   "outputs": [
    {
     "data": {
      "text/html": [
       "<table>\n",
       "<tr>\n",
       "<td>\n",
       "<table>\n",
       "  <thead>\n",
       "    <tr><td> </td><th> Array </th><th> Chunk </th></tr>\n",
       "  </thead>\n",
       "  <tbody>\n",
       "    <tr><th> Bytes </th><td> 81.17 MB </td> <td> 33.55 MB </td></tr>\n",
       "    <tr><th> Shape </th><td> (10145661,) </td> <td> (4194304,) </td></tr>\n",
       "    <tr><th> Count </th><td> 3 Tasks </td><td> 3 Chunks </td></tr>\n",
       "    <tr><th> Type </th><td> object </td><td> numpy.ndarray </td></tr>\n",
       "  </tbody>\n",
       "</table>\n",
       "</td>\n",
       "<td>\n",
       "<svg width=\"170\" height=\"75\" style=\"stroke:rgb(0,0,0);stroke-width:1\" >\n",
       "\n",
       "  <!-- Horizontal lines -->\n",
       "  <line x1=\"0\" y1=\"0\" x2=\"120\" y2=\"0\" style=\"stroke-width:2\" />\n",
       "  <line x1=\"0\" y1=\"25\" x2=\"120\" y2=\"25\" style=\"stroke-width:2\" />\n",
       "\n",
       "  <!-- Vertical lines -->\n",
       "  <line x1=\"0\" y1=\"0\" x2=\"0\" y2=\"25\" style=\"stroke-width:2\" />\n",
       "  <line x1=\"49\" y1=\"0\" x2=\"49\" y2=\"25\" />\n",
       "  <line x1=\"99\" y1=\"0\" x2=\"99\" y2=\"25\" />\n",
       "  <line x1=\"120\" y1=\"0\" x2=\"120\" y2=\"25\" style=\"stroke-width:2\" />\n",
       "\n",
       "  <!-- Colored Rectangle -->\n",
       "  <polygon points=\"0.0,0.0 120.0,0.0 120.0,25.412616514582485 0.0,25.412616514582485\" style=\"fill:#ECB172A0;stroke-width:0\"/>\n",
       "\n",
       "  <!-- Text -->\n",
       "  <text x=\"60.000000\" y=\"45.412617\" font-size=\"1.0rem\" font-weight=\"100\" text-anchor=\"middle\" >10145661</text>\n",
       "  <text x=\"140.000000\" y=\"12.706308\" font-size=\"1.0rem\" font-weight=\"100\" text-anchor=\"middle\" transform=\"rotate(0,140.000000,12.706308)\">1</text>\n",
       "</svg>\n",
       "</td>\n",
       "</tr>\n",
       "</table>"
      ],
      "text/plain": [
       "dask.array<array, shape=(10145661,), dtype=object, chunksize=(4194304,), chunktype=numpy.ndarray>"
      ]
     },
     "execution_count": 7,
     "metadata": {},
     "output_type": "execute_result"
    }
   ],
   "source": [
    "chrom"
   ]
  },
  {
   "cell_type": "code",
   "execution_count": 8,
   "id": "9b26a630",
   "metadata": {},
   "outputs": [
    {
     "data": {
      "text/html": [
       "<table>\n",
       "<tr>\n",
       "<td>\n",
       "<table>\n",
       "  <thead>\n",
       "    <tr><td> </td><th> Array </th><th> Chunk </th></tr>\n",
       "  </thead>\n",
       "  <tbody>\n",
       "    <tr><th> Bytes </th><td> 40.58 MB </td> <td> 33.55 MB </td></tr>\n",
       "    <tr><th> Shape </th><td> (10145661,) </td> <td> (8388608,) </td></tr>\n",
       "    <tr><th> Count </th><td> 2 Tasks </td><td> 2 Chunks </td></tr>\n",
       "    <tr><th> Type </th><td> int32 </td><td> numpy.ndarray </td></tr>\n",
       "  </tbody>\n",
       "</table>\n",
       "</td>\n",
       "<td>\n",
       "<svg width=\"170\" height=\"75\" style=\"stroke:rgb(0,0,0);stroke-width:1\" >\n",
       "\n",
       "  <!-- Horizontal lines -->\n",
       "  <line x1=\"0\" y1=\"0\" x2=\"120\" y2=\"0\" style=\"stroke-width:2\" />\n",
       "  <line x1=\"0\" y1=\"25\" x2=\"120\" y2=\"25\" style=\"stroke-width:2\" />\n",
       "\n",
       "  <!-- Vertical lines -->\n",
       "  <line x1=\"0\" y1=\"0\" x2=\"0\" y2=\"25\" style=\"stroke-width:2\" />\n",
       "  <line x1=\"99\" y1=\"0\" x2=\"99\" y2=\"25\" />\n",
       "  <line x1=\"120\" y1=\"0\" x2=\"120\" y2=\"25\" style=\"stroke-width:2\" />\n",
       "\n",
       "  <!-- Colored Rectangle -->\n",
       "  <polygon points=\"0.0,0.0 120.0,0.0 120.0,25.412616514582485 0.0,25.412616514582485\" style=\"fill:#ECB172A0;stroke-width:0\"/>\n",
       "\n",
       "  <!-- Text -->\n",
       "  <text x=\"60.000000\" y=\"45.412617\" font-size=\"1.0rem\" font-weight=\"100\" text-anchor=\"middle\" >10145661</text>\n",
       "  <text x=\"140.000000\" y=\"12.706308\" font-size=\"1.0rem\" font-weight=\"100\" text-anchor=\"middle\" transform=\"rotate(0,140.000000,12.706308)\">1</text>\n",
       "</svg>\n",
       "</td>\n",
       "</tr>\n",
       "</table>"
      ],
      "text/plain": [
       "dask.array<array, shape=(10145661,), dtype=int32, chunksize=(8388608,), chunktype=numpy.ndarray>"
      ]
     },
     "execution_count": 8,
     "metadata": {},
     "output_type": "execute_result"
    }
   ],
   "source": [
    "pos"
   ]
  },
  {
   "cell_type": "markdown",
   "id": "2da3feab",
   "metadata": {},
   "source": [
    "The data on genomic variants can be loaded into memory as [numpy](https://numpy.org/doc/stable/reference/generated/numpy.array.html) arrays as shown in the following examples."
   ]
  },
  {
   "cell_type": "code",
   "execution_count": 14,
   "id": "17e89e8b",
   "metadata": {},
   "outputs": [
    {
     "data": {
      "text/plain": [
       "array(['Pf3D7_01_v3', 'Pf3D7_01_v3', 'Pf3D7_01_v3', 'Pf3D7_01_v3',\n",
       "       'Pf3D7_01_v3', 'Pf3D7_01_v3', 'Pf3D7_01_v3', 'Pf3D7_01_v3',\n",
       "       'Pf3D7_01_v3', 'Pf3D7_01_v3'], dtype=object)"
      ]
     },
     "execution_count": 14,
     "metadata": {},
     "output_type": "execute_result"
    }
   ],
   "source": [
    "# read first 10 chromosomes\n",
    "c = chrom[:10].compute()\n",
    "c"
   ]
  },
  {
   "cell_type": "code",
   "execution_count": 15,
   "id": "13dcb769",
   "metadata": {},
   "outputs": [
    {
     "data": {
      "text/plain": [
       "array([30, 37, 51, 58, 60, 61, 63, 64, 65, 67], dtype=int32)"
      ]
     },
     "execution_count": 15,
     "metadata": {},
     "output_type": "execute_result"
    }
   ],
   "source": [
    "# read first 10 SNP positions into a numpy array\n",
    "p = pos[:10].compute()\n",
    "p"
   ]
  },
  {
   "cell_type": "markdown",
   "id": "4eceec01",
   "metadata": {},
   "source": [
    "### SNP genotypes"
   ]
  },
  {
   "cell_type": "markdown",
   "id": "406f2c1f",
   "metadata": {},
   "source": [
    "SNP genotypes for individual samples are available. \n",
    "\n",
    "Genotypes are stored as a three-dimensional array, where:\n",
    "- the first dimension corresponds to genomic positions, \n",
    "- the second dimension is samples,\n",
    "- the third dimension is ploidy (2).\n",
    "\n",
    "Values coded as integers, where -1 represents a missing value, 0 represents the reference allele, and 1, 2, and 3 represent alternate alleles.\n",
    "\n",
    "SNP genotypes can be accessed as dask arrays as shown below."
   ]
  },
  {
   "cell_type": "code",
   "execution_count": 16,
   "id": "d5c8f3a7",
   "metadata": {},
   "outputs": [
    {
     "data": {
      "text/html": [
       "<table>\n",
       "<tr>\n",
       "<td>\n",
       "<table>\n",
       "  <thead>\n",
       "    <tr><td> </td><th> Array </th><th> Chunk </th></tr>\n",
       "  </thead>\n",
       "  <tbody>\n",
       "    <tr><th> Bytes </th><td> 423.36 GB </td> <td> 33.55 MB </td></tr>\n",
       "    <tr><th> Shape </th><td> (10145661, 20864, 2) </td> <td> (167773, 100, 2) </td></tr>\n",
       "    <tr><th> Count </th><td> 12749 Tasks </td><td> 12749 Chunks </td></tr>\n",
       "    <tr><th> Type </th><td> int8 </td><td> numpy.ndarray </td></tr>\n",
       "  </tbody>\n",
       "</table>\n",
       "</td>\n",
       "<td>\n",
       "<svg width=\"156\" height=\"146\" style=\"stroke:rgb(0,0,0);stroke-width:1\" >\n",
       "\n",
       "  <!-- Horizontal lines -->\n",
       "  <line x1=\"10\" y1=\"0\" x2=\"80\" y2=\"70\" style=\"stroke-width:2\" />\n",
       "  <line x1=\"10\" y1=\"1\" x2=\"80\" y2=\"71\" />\n",
       "  <line x1=\"10\" y1=\"2\" x2=\"80\" y2=\"73\" />\n",
       "  <line x1=\"10\" y1=\"4\" x2=\"80\" y2=\"74\" />\n",
       "  <line x1=\"10\" y1=\"5\" x2=\"80\" y2=\"75\" />\n",
       "  <line x1=\"10\" y1=\"6\" x2=\"80\" y2=\"77\" />\n",
       "  <line x1=\"10\" y1=\"8\" x2=\"80\" y2=\"78\" />\n",
       "  <line x1=\"10\" y1=\"9\" x2=\"80\" y2=\"79\" />\n",
       "  <line x1=\"10\" y1=\"10\" x2=\"80\" y2=\"81\" />\n",
       "  <line x1=\"10\" y1=\"12\" x2=\"80\" y2=\"82\" />\n",
       "  <line x1=\"10\" y1=\"13\" x2=\"80\" y2=\"83\" />\n",
       "  <line x1=\"10\" y1=\"14\" x2=\"80\" y2=\"85\" />\n",
       "  <line x1=\"10\" y1=\"16\" x2=\"80\" y2=\"86\" />\n",
       "  <line x1=\"10\" y1=\"17\" x2=\"80\" y2=\"88\" />\n",
       "  <line x1=\"10\" y1=\"18\" x2=\"80\" y2=\"89\" />\n",
       "  <line x1=\"10\" y1=\"20\" x2=\"80\" y2=\"90\" />\n",
       "  <line x1=\"10\" y1=\"21\" x2=\"80\" y2=\"92\" />\n",
       "  <line x1=\"10\" y1=\"22\" x2=\"80\" y2=\"93\" />\n",
       "  <line x1=\"10\" y1=\"24\" x2=\"80\" y2=\"94\" />\n",
       "  <line x1=\"10\" y1=\"25\" x2=\"80\" y2=\"96\" style=\"stroke-width:2\" />\n",
       "\n",
       "  <!-- Vertical lines -->\n",
       "  <line x1=\"10\" y1=\"0\" x2=\"10\" y2=\"25\" style=\"stroke-width:2\" />\n",
       "  <line x1=\"13\" y1=\"3\" x2=\"13\" y2=\"28\" />\n",
       "  <line x1=\"17\" y1=\"7\" x2=\"17\" y2=\"32\" />\n",
       "  <line x1=\"20\" y1=\"10\" x2=\"20\" y2=\"35\" />\n",
       "  <line x1=\"24\" y1=\"14\" x2=\"24\" y2=\"39\" />\n",
       "  <line x1=\"28\" y1=\"18\" x2=\"28\" y2=\"44\" />\n",
       "  <line x1=\"32\" y1=\"22\" x2=\"32\" y2=\"47\" />\n",
       "  <line x1=\"35\" y1=\"25\" x2=\"35\" y2=\"51\" />\n",
       "  <line x1=\"39\" y1=\"29\" x2=\"39\" y2=\"54\" />\n",
       "  <line x1=\"42\" y1=\"32\" x2=\"42\" y2=\"58\" />\n",
       "  <line x1=\"47\" y1=\"37\" x2=\"47\" y2=\"62\" />\n",
       "  <line x1=\"50\" y1=\"40\" x2=\"50\" y2=\"66\" />\n",
       "  <line x1=\"54\" y1=\"44\" x2=\"54\" y2=\"69\" />\n",
       "  <line x1=\"57\" y1=\"47\" x2=\"57\" y2=\"73\" />\n",
       "  <line x1=\"61\" y1=\"51\" x2=\"61\" y2=\"76\" />\n",
       "  <line x1=\"66\" y1=\"56\" x2=\"66\" y2=\"81\" />\n",
       "  <line x1=\"69\" y1=\"59\" x2=\"69\" y2=\"84\" />\n",
       "  <line x1=\"73\" y1=\"63\" x2=\"73\" y2=\"88\" />\n",
       "  <line x1=\"76\" y1=\"66\" x2=\"76\" y2=\"91\" />\n",
       "  <line x1=\"80\" y1=\"70\" x2=\"80\" y2=\"96\" style=\"stroke-width:2\" />\n",
       "\n",
       "  <!-- Colored Rectangle -->\n",
       "  <polygon points=\"10.0,0.0 80.58823529411765,70.58823529411765 80.58823529411765,96.00085180870013 10.0,25.412616514582485\" style=\"fill:#8B4903A0;stroke-width:0\"/>\n",
       "\n",
       "  <!-- Horizontal lines -->\n",
       "  <line x1=\"10\" y1=\"0\" x2=\"35\" y2=\"0\" style=\"stroke-width:2\" />\n",
       "  <line x1=\"13\" y1=\"3\" x2=\"38\" y2=\"3\" />\n",
       "  <line x1=\"17\" y1=\"7\" x2=\"42\" y2=\"7\" />\n",
       "  <line x1=\"20\" y1=\"10\" x2=\"45\" y2=\"10\" />\n",
       "  <line x1=\"24\" y1=\"14\" x2=\"49\" y2=\"14\" />\n",
       "  <line x1=\"28\" y1=\"18\" x2=\"54\" y2=\"18\" />\n",
       "  <line x1=\"32\" y1=\"22\" x2=\"57\" y2=\"22\" />\n",
       "  <line x1=\"35\" y1=\"25\" x2=\"61\" y2=\"25\" />\n",
       "  <line x1=\"39\" y1=\"29\" x2=\"64\" y2=\"29\" />\n",
       "  <line x1=\"42\" y1=\"32\" x2=\"68\" y2=\"32\" />\n",
       "  <line x1=\"47\" y1=\"37\" x2=\"72\" y2=\"37\" />\n",
       "  <line x1=\"50\" y1=\"40\" x2=\"76\" y2=\"40\" />\n",
       "  <line x1=\"54\" y1=\"44\" x2=\"79\" y2=\"44\" />\n",
       "  <line x1=\"57\" y1=\"47\" x2=\"83\" y2=\"47\" />\n",
       "  <line x1=\"61\" y1=\"51\" x2=\"86\" y2=\"51\" />\n",
       "  <line x1=\"66\" y1=\"56\" x2=\"91\" y2=\"56\" />\n",
       "  <line x1=\"69\" y1=\"59\" x2=\"94\" y2=\"59\" />\n",
       "  <line x1=\"73\" y1=\"63\" x2=\"98\" y2=\"63\" />\n",
       "  <line x1=\"76\" y1=\"66\" x2=\"101\" y2=\"66\" />\n",
       "  <line x1=\"80\" y1=\"70\" x2=\"106\" y2=\"70\" style=\"stroke-width:2\" />\n",
       "\n",
       "  <!-- Vertical lines -->\n",
       "  <line x1=\"10\" y1=\"0\" x2=\"80\" y2=\"70\" style=\"stroke-width:2\" />\n",
       "  <line x1=\"35\" y1=\"0\" x2=\"106\" y2=\"70\" style=\"stroke-width:2\" />\n",
       "\n",
       "  <!-- Colored Rectangle -->\n",
       "  <polygon points=\"10.0,0.0 35.41261651458248,0.0 106.00085180870013,70.58823529411765 80.58823529411765,70.58823529411765\" style=\"fill:#8B4903A0;stroke-width:0\"/>\n",
       "\n",
       "  <!-- Horizontal lines -->\n",
       "  <line x1=\"80\" y1=\"70\" x2=\"106\" y2=\"70\" style=\"stroke-width:2\" />\n",
       "  <line x1=\"80\" y1=\"71\" x2=\"106\" y2=\"71\" />\n",
       "  <line x1=\"80\" y1=\"73\" x2=\"106\" y2=\"73\" />\n",
       "  <line x1=\"80\" y1=\"74\" x2=\"106\" y2=\"74\" />\n",
       "  <line x1=\"80\" y1=\"75\" x2=\"106\" y2=\"75\" />\n",
       "  <line x1=\"80\" y1=\"77\" x2=\"106\" y2=\"77\" />\n",
       "  <line x1=\"80\" y1=\"78\" x2=\"106\" y2=\"78\" />\n",
       "  <line x1=\"80\" y1=\"79\" x2=\"106\" y2=\"79\" />\n",
       "  <line x1=\"80\" y1=\"81\" x2=\"106\" y2=\"81\" />\n",
       "  <line x1=\"80\" y1=\"82\" x2=\"106\" y2=\"82\" />\n",
       "  <line x1=\"80\" y1=\"83\" x2=\"106\" y2=\"83\" />\n",
       "  <line x1=\"80\" y1=\"85\" x2=\"106\" y2=\"85\" />\n",
       "  <line x1=\"80\" y1=\"86\" x2=\"106\" y2=\"86\" />\n",
       "  <line x1=\"80\" y1=\"88\" x2=\"106\" y2=\"88\" />\n",
       "  <line x1=\"80\" y1=\"89\" x2=\"106\" y2=\"89\" />\n",
       "  <line x1=\"80\" y1=\"90\" x2=\"106\" y2=\"90\" />\n",
       "  <line x1=\"80\" y1=\"92\" x2=\"106\" y2=\"92\" />\n",
       "  <line x1=\"80\" y1=\"93\" x2=\"106\" y2=\"93\" />\n",
       "  <line x1=\"80\" y1=\"94\" x2=\"106\" y2=\"94\" />\n",
       "  <line x1=\"80\" y1=\"96\" x2=\"106\" y2=\"96\" style=\"stroke-width:2\" />\n",
       "\n",
       "  <!-- Vertical lines -->\n",
       "  <line x1=\"80\" y1=\"70\" x2=\"80\" y2=\"96\" style=\"stroke-width:2\" />\n",
       "  <line x1=\"106\" y1=\"70\" x2=\"106\" y2=\"96\" style=\"stroke-width:2\" />\n",
       "\n",
       "  <!-- Colored Rectangle -->\n",
       "  <polygon points=\"80.58823529411765,70.58823529411765 106.00085180870013,70.58823529411765 106.00085180870013,96.00085180870013 80.58823529411765,96.00085180870013\" style=\"fill:#8B4903A0;stroke-width:0\"/>\n",
       "\n",
       "  <!-- Text -->\n",
       "  <text x=\"93.294544\" y=\"116.000852\" font-size=\"1.0rem\" font-weight=\"100\" text-anchor=\"middle\" >2</text>\n",
       "  <text x=\"126.000852\" y=\"83.294544\" font-size=\"1.0rem\" font-weight=\"100\" text-anchor=\"middle\" transform=\"rotate(-90,126.000852,83.294544)\">20864</text>\n",
       "  <text x=\"35.294118\" y=\"80.706734\" font-size=\"1.0rem\" font-weight=\"100\" text-anchor=\"middle\" transform=\"rotate(45,35.294118,80.706734)\">10145661</text>\n",
       "</svg>\n",
       "</td>\n",
       "</tr>\n",
       "</table>"
      ],
      "text/plain": [
       "dask.array<array, shape=(10145661, 20864, 2), dtype=int8, chunksize=(167773, 100, 2), chunktype=numpy.ndarray>"
      ]
     },
     "execution_count": 16,
     "metadata": {},
     "output_type": "execute_result"
    }
   ],
   "source": [
    "pf7.calldata()"
   ]
  },
  {
   "cell_type": "markdown",
   "id": "3e971be1",
   "metadata": {},
   "source": [
    "Note that the columns of this array (second dimension) match the rows in the sample metadata, if the same sample sets were loaded. I.e.:"
   ]
  },
  {
   "cell_type": "code",
   "execution_count": 17,
   "id": "c899f9cd",
   "metadata": {},
   "outputs": [
    {
     "data": {
      "text/plain": [
       "True"
      ]
     },
     "execution_count": 17,
     "metadata": {},
     "output_type": "execute_result"
    }
   ],
   "source": [
    "df_samples = pf7.sample_metadata()\n",
    "gt = pf7.calldata()\n",
    "len(df_samples) == gt.shape[1]"
   ]
  },
  {
   "cell_type": "markdown",
   "id": "a723898e",
   "metadata": {},
   "source": [
    "You can use this correspondance to apply further subsetting operations to the genotypes by querying the sample metadata. E.g.:"
   ]
  },
  {
   "cell_type": "code",
   "execution_count": 18,
   "id": "84fca223",
   "metadata": {},
   "outputs": [],
   "source": [
    "import numpy as np\n",
    "import dask.array as da"
   ]
  },
  {
   "cell_type": "code",
   "execution_count": 19,
   "id": "b69daa9b",
   "metadata": {},
   "outputs": [
    {
     "name": "stdout",
     "output_type": "stream",
     "text": [
      "found 164 samples from Colombia\n"
     ]
    },
    {
     "data": {
      "text/html": [
       "<table>\n",
       "<tr>\n",
       "<td>\n",
       "<table>\n",
       "  <thead>\n",
       "    <tr><td> </td><th> Array </th><th> Chunk </th></tr>\n",
       "  </thead>\n",
       "  <tbody>\n",
       "    <tr><th> Bytes </th><td> 3.33 GB </td> <td> 21.14 MB </td></tr>\n",
       "    <tr><th> Shape </th><td> (10145661, 164, 2) </td> <td> (167773, 63, 2) </td></tr>\n",
       "    <tr><th> Count </th><td> 12993 Tasks </td><td> 244 Chunks </td></tr>\n",
       "    <tr><th> Type </th><td> int8 </td><td> numpy.ndarray </td></tr>\n",
       "  </tbody>\n",
       "</table>\n",
       "</td>\n",
       "<td>\n",
       "<svg width=\"156\" height=\"146\" style=\"stroke:rgb(0,0,0);stroke-width:1\" >\n",
       "\n",
       "  <!-- Horizontal lines -->\n",
       "  <line x1=\"10\" y1=\"0\" x2=\"80\" y2=\"70\" style=\"stroke-width:2\" />\n",
       "  <line x1=\"10\" y1=\"4\" x2=\"80\" y2=\"75\" />\n",
       "  <line x1=\"10\" y1=\"12\" x2=\"80\" y2=\"83\" />\n",
       "  <line x1=\"10\" y1=\"22\" x2=\"80\" y2=\"93\" />\n",
       "  <line x1=\"10\" y1=\"25\" x2=\"80\" y2=\"96\" style=\"stroke-width:2\" />\n",
       "\n",
       "  <!-- Vertical lines -->\n",
       "  <line x1=\"10\" y1=\"0\" x2=\"10\" y2=\"25\" style=\"stroke-width:2\" />\n",
       "  <line x1=\"13\" y1=\"3\" x2=\"13\" y2=\"28\" />\n",
       "  <line x1=\"17\" y1=\"7\" x2=\"17\" y2=\"32\" />\n",
       "  <line x1=\"20\" y1=\"10\" x2=\"20\" y2=\"35\" />\n",
       "  <line x1=\"24\" y1=\"14\" x2=\"24\" y2=\"39\" />\n",
       "  <line x1=\"28\" y1=\"18\" x2=\"28\" y2=\"44\" />\n",
       "  <line x1=\"32\" y1=\"22\" x2=\"32\" y2=\"47\" />\n",
       "  <line x1=\"35\" y1=\"25\" x2=\"35\" y2=\"51\" />\n",
       "  <line x1=\"39\" y1=\"29\" x2=\"39\" y2=\"54\" />\n",
       "  <line x1=\"42\" y1=\"32\" x2=\"42\" y2=\"58\" />\n",
       "  <line x1=\"47\" y1=\"37\" x2=\"47\" y2=\"62\" />\n",
       "  <line x1=\"50\" y1=\"40\" x2=\"50\" y2=\"66\" />\n",
       "  <line x1=\"54\" y1=\"44\" x2=\"54\" y2=\"69\" />\n",
       "  <line x1=\"57\" y1=\"47\" x2=\"57\" y2=\"73\" />\n",
       "  <line x1=\"61\" y1=\"51\" x2=\"61\" y2=\"76\" />\n",
       "  <line x1=\"66\" y1=\"56\" x2=\"66\" y2=\"81\" />\n",
       "  <line x1=\"69\" y1=\"59\" x2=\"69\" y2=\"84\" />\n",
       "  <line x1=\"73\" y1=\"63\" x2=\"73\" y2=\"88\" />\n",
       "  <line x1=\"76\" y1=\"66\" x2=\"76\" y2=\"91\" />\n",
       "  <line x1=\"80\" y1=\"70\" x2=\"80\" y2=\"96\" style=\"stroke-width:2\" />\n",
       "\n",
       "  <!-- Colored Rectangle -->\n",
       "  <polygon points=\"10.0,0.0 80.58823529411765,70.58823529411765 80.58823529411765,96.00085180870013 10.0,25.412616514582485\" style=\"fill:#8B4903A0;stroke-width:0\"/>\n",
       "\n",
       "  <!-- Horizontal lines -->\n",
       "  <line x1=\"10\" y1=\"0\" x2=\"35\" y2=\"0\" style=\"stroke-width:2\" />\n",
       "  <line x1=\"13\" y1=\"3\" x2=\"38\" y2=\"3\" />\n",
       "  <line x1=\"17\" y1=\"7\" x2=\"42\" y2=\"7\" />\n",
       "  <line x1=\"20\" y1=\"10\" x2=\"45\" y2=\"10\" />\n",
       "  <line x1=\"24\" y1=\"14\" x2=\"49\" y2=\"14\" />\n",
       "  <line x1=\"28\" y1=\"18\" x2=\"54\" y2=\"18\" />\n",
       "  <line x1=\"32\" y1=\"22\" x2=\"57\" y2=\"22\" />\n",
       "  <line x1=\"35\" y1=\"25\" x2=\"61\" y2=\"25\" />\n",
       "  <line x1=\"39\" y1=\"29\" x2=\"64\" y2=\"29\" />\n",
       "  <line x1=\"42\" y1=\"32\" x2=\"68\" y2=\"32\" />\n",
       "  <line x1=\"47\" y1=\"37\" x2=\"72\" y2=\"37\" />\n",
       "  <line x1=\"50\" y1=\"40\" x2=\"76\" y2=\"40\" />\n",
       "  <line x1=\"54\" y1=\"44\" x2=\"79\" y2=\"44\" />\n",
       "  <line x1=\"57\" y1=\"47\" x2=\"83\" y2=\"47\" />\n",
       "  <line x1=\"61\" y1=\"51\" x2=\"86\" y2=\"51\" />\n",
       "  <line x1=\"66\" y1=\"56\" x2=\"91\" y2=\"56\" />\n",
       "  <line x1=\"69\" y1=\"59\" x2=\"94\" y2=\"59\" />\n",
       "  <line x1=\"73\" y1=\"63\" x2=\"98\" y2=\"63\" />\n",
       "  <line x1=\"76\" y1=\"66\" x2=\"101\" y2=\"66\" />\n",
       "  <line x1=\"80\" y1=\"70\" x2=\"106\" y2=\"70\" style=\"stroke-width:2\" />\n",
       "\n",
       "  <!-- Vertical lines -->\n",
       "  <line x1=\"10\" y1=\"0\" x2=\"80\" y2=\"70\" style=\"stroke-width:2\" />\n",
       "  <line x1=\"35\" y1=\"0\" x2=\"106\" y2=\"70\" style=\"stroke-width:2\" />\n",
       "\n",
       "  <!-- Colored Rectangle -->\n",
       "  <polygon points=\"10.0,0.0 35.41261651458248,0.0 106.00085180870013,70.58823529411765 80.58823529411765,70.58823529411765\" style=\"fill:#8B4903A0;stroke-width:0\"/>\n",
       "\n",
       "  <!-- Horizontal lines -->\n",
       "  <line x1=\"80\" y1=\"70\" x2=\"106\" y2=\"70\" style=\"stroke-width:2\" />\n",
       "  <line x1=\"80\" y1=\"75\" x2=\"106\" y2=\"75\" />\n",
       "  <line x1=\"80\" y1=\"83\" x2=\"106\" y2=\"83\" />\n",
       "  <line x1=\"80\" y1=\"93\" x2=\"106\" y2=\"93\" />\n",
       "  <line x1=\"80\" y1=\"96\" x2=\"106\" y2=\"96\" style=\"stroke-width:2\" />\n",
       "\n",
       "  <!-- Vertical lines -->\n",
       "  <line x1=\"80\" y1=\"70\" x2=\"80\" y2=\"96\" style=\"stroke-width:2\" />\n",
       "  <line x1=\"106\" y1=\"70\" x2=\"106\" y2=\"96\" style=\"stroke-width:2\" />\n",
       "\n",
       "  <!-- Colored Rectangle -->\n",
       "  <polygon points=\"80.58823529411765,70.58823529411765 106.00085180870013,70.58823529411765 106.00085180870013,96.00085180870013 80.58823529411765,96.00085180870013\" style=\"fill:#ECB172A0;stroke-width:0\"/>\n",
       "\n",
       "  <!-- Text -->\n",
       "  <text x=\"93.294544\" y=\"116.000852\" font-size=\"1.0rem\" font-weight=\"100\" text-anchor=\"middle\" >2</text>\n",
       "  <text x=\"126.000852\" y=\"83.294544\" font-size=\"1.0rem\" font-weight=\"100\" text-anchor=\"middle\" transform=\"rotate(-90,126.000852,83.294544)\">164</text>\n",
       "  <text x=\"35.294118\" y=\"80.706734\" font-size=\"1.0rem\" font-weight=\"100\" text-anchor=\"middle\" transform=\"rotate(45,35.294118,80.706734)\">10145661</text>\n",
       "</svg>\n",
       "</td>\n",
       "</tr>\n",
       "</table>"
      ],
      "text/plain": [
       "dask.array<getitem, shape=(10145661, 164, 2), dtype=int8, chunksize=(167773, 63, 2), chunktype=numpy.ndarray>"
      ]
     },
     "execution_count": 19,
     "metadata": {},
     "output_type": "execute_result"
    }
   ],
   "source": [
    "loc_colombia = df_samples.eval(\"Country == 'Colombia'\").values\n",
    "print(f\"found {np.count_nonzero(loc_colombia)} samples from Colombia\")\n",
    "gt_colombia = da.compress(loc_colombia, gt, axis=1)\n",
    "gt_colombia"
   ]
  },
  {
   "cell_type": "markdown",
   "id": "89f957e8",
   "metadata": {},
   "source": [
    "Data can be read into memory as numpy arrays, e.g., read genotypes for the first 5 SNPs and the first 3 samples:"
   ]
  },
  {
   "cell_type": "code",
   "execution_count": 20,
   "id": "6fc9ebb0",
   "metadata": {},
   "outputs": [
    {
     "data": {
      "text/plain": [
       "array([[[-1, -1],\n",
       "        [ 0,  0],\n",
       "        [-1, -1]],\n",
       "\n",
       "       [[-1, -1],\n",
       "        [ 0,  0],\n",
       "        [-1, -1]],\n",
       "\n",
       "       [[-1, -1],\n",
       "        [ 0,  0],\n",
       "        [-1, -1]],\n",
       "\n",
       "       [[-1, -1],\n",
       "        [ 0,  0],\n",
       "        [-1, -1]],\n",
       "\n",
       "       [[-1, -1],\n",
       "        [ 0,  0],\n",
       "        [-1, -1]]], dtype=int8)"
      ]
     },
     "execution_count": 20,
     "metadata": {},
     "output_type": "execute_result"
    }
   ],
   "source": [
    "g = gt[:5, :3, :].compute()\n",
    "g"
   ]
  },
  {
   "cell_type": "markdown",
   "id": "8132875e",
   "metadata": {},
   "source": [
    "If you want to work further with the genotype calls, you may find it convenient to use [scikit-allel](https://scikit-allel.readthedocs.io/en/stable/). E.g., the code below sets up a genotype array using the Colombian samples subset."
   ]
  },
  {
   "cell_type": "code",
   "execution_count": 21,
   "id": "09a77abc",
   "metadata": {},
   "outputs": [
    {
     "data": {
      "text/html": [
       "<div class=\"allel allel-DisplayAs2D\"><span>&lt;GenotypeDaskArray shape=(10145661, 164, 2) dtype=int8&gt;</span><table><thead><tr><th></th><th style=\"text-align: center\">0</th><th style=\"text-align: center\">1</th><th style=\"text-align: center\">2</th><th style=\"text-align: center\">3</th><th style=\"text-align: center\">4</th><th style=\"text-align: center\">...</th><th style=\"text-align: center\">159</th><th style=\"text-align: center\">160</th><th style=\"text-align: center\">161</th><th style=\"text-align: center\">162</th><th style=\"text-align: center\">163</th></tr></thead><tbody><tr><th style=\"text-align: center; background-color: white; border-right: 1px solid black; \">0</th><td style=\"text-align: center\">0/0</td><td style=\"text-align: center\">0/0</td><td style=\"text-align: center\">./.</td><td style=\"text-align: center\">0/0</td><td style=\"text-align: center\">0/0</td><td style=\"text-align: center\">...</td><td style=\"text-align: center\">0/0</td><td style=\"text-align: center\">0/0</td><td style=\"text-align: center\">0/0</td><td style=\"text-align: center\">./.</td><td style=\"text-align: center\">0/0</td></tr><tr><th style=\"text-align: center; background-color: white; border-right: 1px solid black; \">1</th><td style=\"text-align: center\">0/0</td><td style=\"text-align: center\">0/0</td><td style=\"text-align: center\">./.</td><td style=\"text-align: center\">0/0</td><td style=\"text-align: center\">0/0</td><td style=\"text-align: center\">...</td><td style=\"text-align: center\">0/0</td><td style=\"text-align: center\">0/0</td><td style=\"text-align: center\">0/0</td><td style=\"text-align: center\">./.</td><td style=\"text-align: center\">0/0</td></tr><tr><th style=\"text-align: center; background-color: white; border-right: 1px solid black; \">2</th><td style=\"text-align: center\">0/0</td><td style=\"text-align: center\">0/0</td><td style=\"text-align: center\">0/0</td><td style=\"text-align: center\">0/0</td><td style=\"text-align: center\">0/0</td><td style=\"text-align: center\">...</td><td style=\"text-align: center\">0/0</td><td style=\"text-align: center\">0/0</td><td style=\"text-align: center\">0/0</td><td style=\"text-align: center\">./.</td><td style=\"text-align: center\">0/0</td></tr><tr><th style=\"text-align: center; background-color: white; border-right: 1px solid black; \">...</th><td style=\"text-align: center\" colspan=\"12\">...</td></tr><tr><th style=\"text-align: center; background-color: white; border-right: 1px solid black; \">10145658</th><td style=\"text-align: center\">./.</td><td style=\"text-align: center\">./.</td><td style=\"text-align: center\">./.</td><td style=\"text-align: center\">./.</td><td style=\"text-align: center\">./.</td><td style=\"text-align: center\">...</td><td style=\"text-align: center\">./.</td><td style=\"text-align: center\">./.</td><td style=\"text-align: center\">./.</td><td style=\"text-align: center\">./.</td><td style=\"text-align: center\">./.</td></tr><tr><th style=\"text-align: center; background-color: white; border-right: 1px solid black; \">10145659</th><td style=\"text-align: center\">./.</td><td style=\"text-align: center\">./.</td><td style=\"text-align: center\">./.</td><td style=\"text-align: center\">./.</td><td style=\"text-align: center\">./.</td><td style=\"text-align: center\">...</td><td style=\"text-align: center\">./.</td><td style=\"text-align: center\">./.</td><td style=\"text-align: center\">./.</td><td style=\"text-align: center\">./.</td><td style=\"text-align: center\">./.</td></tr><tr><th style=\"text-align: center; background-color: white; border-right: 1px solid black; \">10145660</th><td style=\"text-align: center\">./.</td><td style=\"text-align: center\">./.</td><td style=\"text-align: center\">./.</td><td style=\"text-align: center\">./.</td><td style=\"text-align: center\">./.</td><td style=\"text-align: center\">...</td><td style=\"text-align: center\">./.</td><td style=\"text-align: center\">./.</td><td style=\"text-align: center\">./.</td><td style=\"text-align: center\">./.</td><td style=\"text-align: center\">./.</td></tr></tbody></table></div>"
      ],
      "text/plain": [
       "<GenotypeDaskArray shape=(10145661, 164, 2) dtype=int8>"
      ]
     },
     "execution_count": 21,
     "metadata": {},
     "output_type": "execute_result"
    }
   ],
   "source": [
    "gt_colombia = allel.GenotypeDaskArray(gt_colombia)\n",
    "gt_colombia"
   ]
  }
 ],
 "metadata": {
  "kernelspec": {
   "display_name": "malariagen-data-FjnzRMkT-py3.7",
   "language": "python",
   "name": "malariagen-data-fjnzrmkt-py3.7"
  },
  "language_info": {
   "codemirror_mode": {
    "name": "ipython",
    "version": 3
   },
   "file_extension": ".py",
   "mimetype": "text/x-python",
   "name": "python",
   "nbconvert_exporter": "python",
   "pygments_lexer": "ipython3",
   "version": "3.7.3"
  }
 },
 "nbformat": 4,
 "nbformat_minor": 5
}
